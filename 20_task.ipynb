{
 "cells": [
  {
   "cell_type": "code",
   "execution_count": 2,
   "metadata": {
    "id": "tWO36cIgWlev"
   },
   "outputs": [],
   "source": [
    "import pandas as pd\n",
    "import numpy as np"
   ]
  },
  {
   "cell_type": "code",
   "execution_count": null,
   "metadata": {},
   "outputs": [],
   "source": []
  },
  {
   "cell_type": "markdown",
   "metadata": {
    "id": "zEhub0BcW1Ma"
   },
   "source": [
    "###`Q:1-5`\n",
    "1. You are given three quater files, your job is to append these three files and make a single dataframe.\n",
    "2. Have a index as Q-1 Q-2 Q-3 for respective quater files in the dataframe\n",
    "3. Your are given a file items.csv which has item_id and item_name. Find out most sold items in each quarter.\n",
    "4. Find out items which has made most revenue in each quarter.\n",
    "5. Find out avg order price of each quarter.\n",
    "\n",
    "***Note: item_price is given as str with $ sign, in earlier task you have converted this to rupees, here too first convert item_price field in rupees.***"
   ]
  },
  {
   "cell_type": "code",
   "execution_count": null,
   "metadata": {
    "id": "nwICqy-RWyEf"
   },
   "outputs": [],
   "source": [
    "# code here"
   ]
  },
  {
   "cell_type": "markdown",
   "metadata": {
    "id": "IRg-rNsDW-Ca"
   },
   "source": [
    "###`Q-6` From the IPL wala dataset you have to find the Purple cap holder each season.\n",
    "\n",
    "*Note: Bowler with most no wickets in a season gets purple cap. If more than one bowler have same no of wickets in the season, one with least ecomnomy among them is purple cap holder.*\n",
    "\n",
    "Bowler's Economy = runs-conceded per six balls"
   ]
  },
  {
   "cell_type": "code",
   "execution_count": null,
   "metadata": {
    "id": "yQeUfliHXKJm"
   },
   "outputs": [],
   "source": [
    "# code here"
   ]
  },
  {
   "cell_type": "markdown",
   "metadata": {
    "id": "pmJJB0Q6XMWy"
   },
   "source": [
    "###`Q-7:` Best bowler in death overs.\n",
    "*Note: Have taken most no of wickets in case of tie with least economy*\n",
    "\n",
    "Death Overs - [16-20]"
   ]
  },
  {
   "cell_type": "code",
   "execution_count": null,
   "metadata": {
    "id": "s2t1IXf-XLak"
   },
   "outputs": [],
   "source": [
    "# code here"
   ]
  },
  {
   "cell_type": "markdown",
   "metadata": {
    "id": "BHU3PYRTXbPc"
   },
   "source": [
    "###`Q-8` Batsman record season wise\n",
    "\n",
    "Make a function which takes a input `batsman_name` and it returns a dataframe.\n",
    "Columns of the data frame are - `['Season','Innings', 'TotalRuns', 'Avg', 'HighestScore','StrikeRate']`.\n",
    "* In result make `Season` column as index.\n",
    "\n",
    "* Avg - total_runs/ no of time got out. - player_out column will help.\n",
    "* StrikeRate -(total_runs/ balls faced) * 100- wides are not included in batsman ball faced counts. No balls are included. -> Extra_type column will help\n",
    "* Batsman Can score runs on No Balls.\n",
    "* Batsman can get out on No Ball or Wides. And even while being on non-striker. Keep these things in mind before masking."
   ]
  },
  {
   "cell_type": "code",
   "execution_count": null,
   "metadata": {
    "id": "3RQTt5ELXdbH"
   },
   "outputs": [],
   "source": [
    "# code here"
   ]
  },
  {
   "cell_type": "markdown",
   "metadata": {
    "id": "jMyy5LcUXjUA"
   },
   "source": [
    "###`Q-9` Using both dataset, make a dataframe as described below\n",
    "\n",
    "Data Frame columns-> `['PlayerOfThematch', 'BattingFigure', 'BowlingFigure']`\n",
    "\n",
    "* BattingFigure->`<runs>/<balls>`\n",
    "* BowlingFigure->`<wicket>/<runs-conceded>`\n",
    "\n",
    "DataFrame should have one record for each match.\n",
    "\n",
    "Say 'V Kohli' got POM award then in dataset include his batting figure of that match. Say he scored 112runs in 76 balls. And he hasn't bowled so Bowling Figure will be NaN\n",
    "```\n",
    "PlayerOfThematch BattingFigure BowlingFigure\n",
    "V Kohli          112/76         nan  \n",
    "\n",
    "```\n"
   ]
  },
  {
   "cell_type": "code",
   "execution_count": null,
   "metadata": {
    "id": "uh36R6AZXn82"
   },
   "outputs": [],
   "source": [
    "# code here"
   ]
  },
  {
   "cell_type": "markdown",
   "metadata": {
    "id": "iljGaXfzXq1t"
   },
   "source": [
    "## **Questions Based on Iris Dataset**\n",
    "\n",
    "- **Sepal All:** https://docs.google.com/spreadsheets/d/e/2PACX-1vT58ekmHTwptX7Bs4QOy6YByA1HMvYTACeeIjrKhHE0Pg1K_3egewHMKMh02zN9D5-yHVXfvuaa3s5u/pub?gid=2028782809&single=true&output=csv\n",
    "    - **Unnamed: 0:** Unused column. This column is created when creating this sub-dataset.\n",
    "    - **Id:** Id of the records.\n",
    "    - **SepalLengthCm:** Sepal length of flowers in cm\n",
    "    - **SepalWidthCm:** Sepal width of flowers in cm\n",
    "\n",
    "- **Petal All:** https://docs.google.com/spreadsheets/d/e/2PACX-1vQinLXShrOz4ExNaW1bSQVuvbbhIzJW7G0kkkD2SvqSD6STjLrQQiftgI7BGe10sBZi0CNr2_sJpQAz/pub?gid=1580010789&single=true&output=csv\n",
    "    - **Unnamed: 0:** Unused column. This column is created when creating this sub-dataset.\n",
    "    - **Id:** Id of the records.\n",
    "    - **PetalLengthCm:** Petal length of flowers in cm\n",
    "    - **PetalWidthCm:** Petal width of flowers in cm\n",
    "\n",
    "- **Iris Virginica:** https://docs.google.com/spreadsheets/d/e/2PACX-1vSK39MwduGPHYNgw5yViezoLYCVDKMCWIHzjnt3GZNaxHPFOQLr2q6no_tyqTsOk-VfXleslfGVe9eJ/pub?gid=314231613&single=true&output=csv\n",
    "    - **Unnamed: 0:** Unused column. This column is created when creating the sub-dataset.\n",
    "    - **Id:** Id of the records.\n",
    "    - **Species:** Name of this species.\n",
    "\n",
    "- **Iris Versicolor:** https://docs.google.com/spreadsheets/d/e/2PACX-1vTcSFgLnabqIrgIc5WlwvnbbvyyJsgZjR-0E0-4TR-5aHgv_0EP6yNWglkkls3AXM2qHCR5VYzWCoTM/pub?gid=715607857&single=true&output=csv\n",
    "    - **Unnamed: 0:** Unused column. This column is created when creating the sub-dataset.\n",
    "    - **Id:** Id of the records.\n",
    "    - **Species:** Name of this species.\n",
    "\n",
    "- **Iris Setosa:** https://docs.google.com/spreadsheets/d/e/2PACX-1vSjqJpdgy2X_oDUUqQ0sSaFKqnnf8MYU4KgJSYgHaHmq0Wb1weMOsJXh-rICHmkLcaTkOwzMYLeh959/pub?gid=2003684803&single=true&output=csv\n",
    "    - **Unnamed 0:** Unused column. This column is created when creating the sub-dataset.\n",
    "    - **Id:** Id of the records.\n",
    "    - **Species:** Name of this species."
   ]
  },
  {
   "cell_type": "code",
   "execution_count": null,
   "metadata": {
    "id": "nY1khG0XXp1X"
   },
   "outputs": [],
   "source": [
    "import pandas as pd\n",
    "sepal_all = pd.read_csv(\"https://docs.google.com/spreadsheets/d/e/2PACX-1vT58ekmHTwptX7Bs4QOy6YByA1HMvYTACeeIjrKhHE0Pg1K_3egewHMKMh02zN9D5-yHVXfvuaa3s5u/pub?gid=2028782809&single=true&output=csv\")\n",
    "petal_all = pd.read_csv(\"https://docs.google.com/spreadsheets/d/e/2PACX-1vQinLXShrOz4ExNaW1bSQVuvbbhIzJW7G0kkkD2SvqSD6STjLrQQiftgI7BGe10sBZi0CNr2_sJpQAz/pub?gid=1580010789&single=true&output=csv\")\n",
    "\n",
    "virginica = pd.read_csv(\"https://docs.google.com/spreadsheets/d/e/2PACX-1vSK39MwduGPHYNgw5yViezoLYCVDKMCWIHzjnt3GZNaxHPFOQLr2q6no_tyqTsOk-VfXleslfGVe9eJ/pub?gid=314231613&single=true&output=csv\")\n",
    "versicolor = pd.read_csv(\"https://docs.google.com/spreadsheets/d/e/2PACX-1vTcSFgLnabqIrgIc5WlwvnbbvyyJsgZjR-0E0-4TR-5aHgv_0EP6yNWglkkls3AXM2qHCR5VYzWCoTM/pub?gid=715607857&single=true&output=csv\")\n",
    "setosa = pd.read_csv(\"https://docs.google.com/spreadsheets/d/e/2PACX-1vSjqJpdgy2X_oDUUqQ0sSaFKqnnf8MYU4KgJSYgHaHmq0Wb1weMOsJXh-rICHmkLcaTkOwzMYLeh959/pub?gid=2003684803&single=true&output=csv\")\n"
   ]
  },
  {
   "cell_type": "markdown",
   "metadata": {
    "id": "R6jqy4GQX4RI"
   },
   "source": [
    "### `Q-9:` Plot a bar chart of the average Sepal Length  of Virginica and average Petal length of Setosa flower."
   ]
  },
  {
   "cell_type": "code",
   "execution_count": null,
   "metadata": {
    "id": "zTx5S3yiX15D"
   },
   "outputs": [],
   "source": [
    "# code here"
   ]
  },
  {
   "cell_type": "markdown",
   "metadata": {
    "id": "ecWHo_gsYAT2"
   },
   "source": [
    "### `Q-10:` Create the complete dataset by uisng the below datasets:\n",
    "- virginica\n",
    "- versicolor\n",
    "- setosa\n",
    "- sepal all\n",
    "- petal all\n",
    "\n",
    "This dataset should have these below column names in order:\n",
    "1. Id\n",
    "2. Species\n",
    "3. SepalLengthCm\n",
    "4. SepalWidthCm\n",
    "5. PetalLengthCm\n",
    "6. PetalWidthCm\n",
    "\n",
    "Also, the dataset should be shuffled means the `Id` column should not be in increasing or decreasing order. So, make a dataset which has the shuffled Id column. You can use `DataFrame.sample()` method to shuffle."
   ]
  },
  {
   "cell_type": "code",
   "execution_count": null,
   "metadata": {
    "id": "PsWBn7g3YDRZ"
   },
   "outputs": [],
   "source": [
    "# code here"
   ]
  },
  {
   "cell_type": "markdown",
   "metadata": {
    "id": "FLlBdChyYHtw"
   },
   "source": [
    "### `Q-11:` Find out the maximum and minimum sepal width and petal width of Setosa and Versicolor. To do this:\n",
    "- First create a dataset with merging the required datasets\n",
    "- After that, use `groupby` to create groups based on the \"Species\" column.\n",
    "- Then find out which are asked in this question.\n",
    "\n",
    "\n",
    "The output should be like this:\n",
    "```bash\n",
    "Minimum Sepal width of Setosa is 2.3\n",
    "Maximum Sepal width of Setosa is 4.4\n",
    "\n",
    "**************************************************\n",
    "\n",
    "Minimum Sepal width of Versicolor is 2.0\n",
    "Maximum Sepal width of Versicolor is 3.4\n",
    "\n",
    "**************************************************\n",
    "```"
   ]
  },
  {
   "cell_type": "code",
   "execution_count": null,
   "metadata": {
    "id": "T7toJgSkYIIF"
   },
   "outputs": [],
   "source": [
    "# code here"
   ]
  }
 ],
 "metadata": {
  "colab": {
   "provenance": []
  },
  "kernelspec": {
   "display_name": "Python 3 (ipykernel)",
   "language": "python",
   "name": "python3"
  },
  "language_info": {
   "codemirror_mode": {
    "name": "ipython",
    "version": 3
   },
   "file_extension": ".py",
   "mimetype": "text/x-python",
   "name": "python",
   "nbconvert_exporter": "python",
   "pygments_lexer": "ipython3",
   "version": "3.12.4"
  }
 },
 "nbformat": 4,
 "nbformat_minor": 4
}
