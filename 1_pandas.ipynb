{
 "cells": [
  {
   "cell_type": "markdown",
   "id": "e10b8778",
   "metadata": {},
   "source": [
    "# pandas"
   ]
  },
  {
   "cell_type": "code",
   "execution_count": 2,
   "id": "e708d003",
   "metadata": {},
   "outputs": [],
   "source": [
    "import pandas as pd"
   ]
  },
  {
   "cell_type": "code",
   "execution_count": 3,
   "id": "41d64d63",
   "metadata": {},
   "outputs": [],
   "source": [
    "import numpy as np"
   ]
  },
  {
   "cell_type": "code",
   "execution_count": 4,
   "id": "7403eb65",
   "metadata": {},
   "outputs": [],
   "source": [
    "latters = ['a','b','c']\n",
    "numbers = [1,2,3]\n",
    "np_arr = np.array(numbers)\n",
    "dict = {'a':1,'b':2,'c':3}"
   ]
  },
  {
   "cell_type": "code",
   "execution_count": 5,
   "id": "fc0ed341",
   "metadata": {},
   "outputs": [
    {
     "data": {
      "text/plain": [
       "['a', 'b', 'c']"
      ]
     },
     "execution_count": 5,
     "metadata": {},
     "output_type": "execute_result"
    }
   ],
   "source": [
    "latters"
   ]
  },
  {
   "cell_type": "code",
   "execution_count": 6,
   "id": "42eff63b",
   "metadata": {},
   "outputs": [
    {
     "data": {
      "text/plain": [
       "[1, 2, 3]"
      ]
     },
     "execution_count": 6,
     "metadata": {},
     "output_type": "execute_result"
    }
   ],
   "source": [
    "numbers"
   ]
  },
  {
   "cell_type": "code",
   "execution_count": 7,
   "id": "26fc37c0",
   "metadata": {},
   "outputs": [
    {
     "data": {
      "text/plain": [
       "array([1, 2, 3])"
      ]
     },
     "execution_count": 7,
     "metadata": {},
     "output_type": "execute_result"
    }
   ],
   "source": [
    "np_arr"
   ]
  },
  {
   "cell_type": "code",
   "execution_count": 8,
   "id": "8dbc948d",
   "metadata": {},
   "outputs": [
    {
     "data": {
      "text/plain": [
       "{'a': 1, 'b': 2, 'c': 3}"
      ]
     },
     "execution_count": 8,
     "metadata": {},
     "output_type": "execute_result"
    }
   ],
   "source": [
    "dict"
   ]
  },
  {
   "cell_type": "code",
   "execution_count": 10,
   "id": "6c939474",
   "metadata": {},
   "outputs": [
    {
     "data": {
      "text/plain": [
       "0    1\n",
       "1    2\n",
       "2    3\n",
       "dtype: int64"
      ]
     },
     "execution_count": 10,
     "metadata": {},
     "output_type": "execute_result"
    }
   ],
   "source": [
    "pd.Series(data = numbers)"
   ]
  },
  {
   "cell_type": "code",
   "execution_count": 19,
   "id": "4d9026dc",
   "metadata": {},
   "outputs": [
    {
     "data": {
      "text/plain": [
       "a    1\n",
       "b    2\n",
       "c    3\n",
       "dtype: int64"
      ]
     },
     "execution_count": 19,
     "metadata": {},
     "output_type": "execute_result"
    }
   ],
   "source": [
    "pd.Series(data = numbers, index = latters)"
   ]
  },
  {
   "cell_type": "code",
   "execution_count": 20,
   "id": "e14176eb",
   "metadata": {},
   "outputs": [],
   "source": [
    "new = pd.Series(latters,numbers)"
   ]
  },
  {
   "cell_type": "code",
   "execution_count": 21,
   "id": "d1ce3f4a",
   "metadata": {},
   "outputs": [
    {
     "data": {
      "text/plain": [
       "1    aa\n",
       "2    bb\n",
       "3    cc\n",
       "dtype: object"
      ]
     },
     "execution_count": 21,
     "metadata": {},
     "output_type": "execute_result"
    }
   ],
   "source": [
    "new + new"
   ]
  },
  {
   "cell_type": "code",
   "execution_count": 63,
   "id": "966616fb",
   "metadata": {},
   "outputs": [],
   "source": [
    "my_df = pd.DataFrame(np.random.randn(4,5),[1,2,3,4,],['red','orange','yallow','blue','green'])"
   ]
  },
  {
   "cell_type": "code",
   "execution_count": 54,
   "id": "7af30ce7",
   "metadata": {},
   "outputs": [
    {
     "data": {
      "text/html": [
       "<div>\n",
       "<style scoped>\n",
       "    .dataframe tbody tr th:only-of-type {\n",
       "        vertical-align: middle;\n",
       "    }\n",
       "\n",
       "    .dataframe tbody tr th {\n",
       "        vertical-align: top;\n",
       "    }\n",
       "\n",
       "    .dataframe thead th {\n",
       "        text-align: right;\n",
       "    }\n",
       "</style>\n",
       "<table border=\"1\" class=\"dataframe\">\n",
       "  <thead>\n",
       "    <tr style=\"text-align: right;\">\n",
       "      <th></th>\n",
       "      <th>red</th>\n",
       "      <th>orange</th>\n",
       "      <th>yallow</th>\n",
       "      <th>blue</th>\n",
       "      <th>green</th>\n",
       "    </tr>\n",
       "  </thead>\n",
       "  <tbody>\n",
       "    <tr>\n",
       "      <th>1</th>\n",
       "      <td>0.341189</td>\n",
       "      <td>0.439028</td>\n",
       "      <td>0.335585</td>\n",
       "      <td>-0.804825</td>\n",
       "      <td>1.696999</td>\n",
       "    </tr>\n",
       "    <tr>\n",
       "      <th>2</th>\n",
       "      <td>1.675501</td>\n",
       "      <td>0.136915</td>\n",
       "      <td>0.349051</td>\n",
       "      <td>-0.460787</td>\n",
       "      <td>1.206540</td>\n",
       "    </tr>\n",
       "    <tr>\n",
       "      <th>3</th>\n",
       "      <td>0.939810</td>\n",
       "      <td>1.458592</td>\n",
       "      <td>0.360792</td>\n",
       "      <td>-0.480049</td>\n",
       "      <td>0.410658</td>\n",
       "    </tr>\n",
       "    <tr>\n",
       "      <th>4</th>\n",
       "      <td>1.163294</td>\n",
       "      <td>1.827354</td>\n",
       "      <td>-0.526605</td>\n",
       "      <td>-1.770506</td>\n",
       "      <td>-0.675966</td>\n",
       "    </tr>\n",
       "  </tbody>\n",
       "</table>\n",
       "</div>"
      ],
      "text/plain": [
       "        red    orange    yallow      blue     green\n",
       "1  0.341189  0.439028  0.335585 -0.804825  1.696999\n",
       "2  1.675501  0.136915  0.349051 -0.460787  1.206540\n",
       "3  0.939810  1.458592  0.360792 -0.480049  0.410658\n",
       "4  1.163294  1.827354 -0.526605 -1.770506 -0.675966"
      ]
     },
     "execution_count": 54,
     "metadata": {},
     "output_type": "execute_result"
    }
   ],
   "source": [
    "my_df"
   ]
  },
  {
   "cell_type": "code",
   "execution_count": 55,
   "id": "ca5285d5",
   "metadata": {},
   "outputs": [],
   "source": [
    "my_df['indigo'] = my_df['red']+my_df['orange']\n",
    "my_df['voilat'] = my_df['indigo']+my_df['green']"
   ]
  },
  {
   "cell_type": "code",
   "execution_count": 56,
   "id": "3ac15634",
   "metadata": {},
   "outputs": [
    {
     "data": {
      "text/html": [
       "<div>\n",
       "<style scoped>\n",
       "    .dataframe tbody tr th:only-of-type {\n",
       "        vertical-align: middle;\n",
       "    }\n",
       "\n",
       "    .dataframe tbody tr th {\n",
       "        vertical-align: top;\n",
       "    }\n",
       "\n",
       "    .dataframe thead th {\n",
       "        text-align: right;\n",
       "    }\n",
       "</style>\n",
       "<table border=\"1\" class=\"dataframe\">\n",
       "  <thead>\n",
       "    <tr style=\"text-align: right;\">\n",
       "      <th></th>\n",
       "      <th>red</th>\n",
       "      <th>orange</th>\n",
       "      <th>yallow</th>\n",
       "      <th>blue</th>\n",
       "      <th>green</th>\n",
       "      <th>indigo</th>\n",
       "      <th>voilat</th>\n",
       "    </tr>\n",
       "  </thead>\n",
       "  <tbody>\n",
       "    <tr>\n",
       "      <th>1</th>\n",
       "      <td>0.341189</td>\n",
       "      <td>0.439028</td>\n",
       "      <td>0.335585</td>\n",
       "      <td>-0.804825</td>\n",
       "      <td>1.696999</td>\n",
       "      <td>0.780217</td>\n",
       "      <td>2.477216</td>\n",
       "    </tr>\n",
       "    <tr>\n",
       "      <th>2</th>\n",
       "      <td>1.675501</td>\n",
       "      <td>0.136915</td>\n",
       "      <td>0.349051</td>\n",
       "      <td>-0.460787</td>\n",
       "      <td>1.206540</td>\n",
       "      <td>1.812416</td>\n",
       "      <td>3.018955</td>\n",
       "    </tr>\n",
       "    <tr>\n",
       "      <th>3</th>\n",
       "      <td>0.939810</td>\n",
       "      <td>1.458592</td>\n",
       "      <td>0.360792</td>\n",
       "      <td>-0.480049</td>\n",
       "      <td>0.410658</td>\n",
       "      <td>2.398402</td>\n",
       "      <td>2.809060</td>\n",
       "    </tr>\n",
       "    <tr>\n",
       "      <th>4</th>\n",
       "      <td>1.163294</td>\n",
       "      <td>1.827354</td>\n",
       "      <td>-0.526605</td>\n",
       "      <td>-1.770506</td>\n",
       "      <td>-0.675966</td>\n",
       "      <td>2.990648</td>\n",
       "      <td>2.314682</td>\n",
       "    </tr>\n",
       "  </tbody>\n",
       "</table>\n",
       "</div>"
      ],
      "text/plain": [
       "        red    orange    yallow      blue     green    indigo    voilat\n",
       "1  0.341189  0.439028  0.335585 -0.804825  1.696999  0.780217  2.477216\n",
       "2  1.675501  0.136915  0.349051 -0.460787  1.206540  1.812416  3.018955\n",
       "3  0.939810  1.458592  0.360792 -0.480049  0.410658  2.398402  2.809060\n",
       "4  1.163294  1.827354 -0.526605 -1.770506 -0.675966  2.990648  2.314682"
      ]
     },
     "execution_count": 56,
     "metadata": {},
     "output_type": "execute_result"
    }
   ],
   "source": [
    "my_df"
   ]
  },
  {
   "cell_type": "code",
   "execution_count": 57,
   "id": "ec8852fa",
   "metadata": {},
   "outputs": [
    {
     "data": {
      "text/plain": [
       "red       0.341189\n",
       "orange    0.439028\n",
       "yallow    0.335585\n",
       "blue     -0.804825\n",
       "green     1.696999\n",
       "indigo    0.780217\n",
       "voilat    2.477216\n",
       "Name: 1, dtype: float64"
      ]
     },
     "execution_count": 57,
     "metadata": {},
     "output_type": "execute_result"
    }
   ],
   "source": [
    "my_df.loc[1]"
   ]
  },
  {
   "cell_type": "code",
   "execution_count": 58,
   "id": "12913cd4",
   "metadata": {},
   "outputs": [
    {
     "data": {
      "text/plain": [
       "red       1.675501\n",
       "orange    0.136915\n",
       "yallow    0.349051\n",
       "blue     -0.460787\n",
       "green     1.206540\n",
       "indigo    1.812416\n",
       "voilat    3.018955\n",
       "Name: 2, dtype: float64"
      ]
     },
     "execution_count": 58,
     "metadata": {},
     "output_type": "execute_result"
    }
   ],
   "source": [
    "my_df.iloc[1]"
   ]
  },
  {
   "cell_type": "code",
   "execution_count": 60,
   "id": "e5799abb",
   "metadata": {},
   "outputs": [
    {
     "ename": "TypeError",
     "evalue": "'method' object is not subscriptable",
     "output_type": "error",
     "traceback": [
      "\u001b[1;31m---------------------------------------------------------------------------\u001b[0m",
      "\u001b[1;31mTypeError\u001b[0m                                 Traceback (most recent call last)",
      "\u001b[1;32m~\\AppData\\Local\\Temp\\ipykernel_10472\\1028857306.py\u001b[0m in \u001b[0;36m<module>\u001b[1;34m\u001b[0m\n\u001b[1;32m----> 1\u001b[1;33m \u001b[0mmy_df\u001b[0m\u001b[1;33m.\u001b[0m\u001b[0mdrop\u001b[0m\u001b[1;33m[\u001b[0m\u001b[1;36m1\u001b[0m\u001b[1;33m]\u001b[0m\u001b[1;33m\u001b[0m\u001b[1;33m\u001b[0m\u001b[0m\n\u001b[0m",
      "\u001b[1;31mTypeError\u001b[0m: 'method' object is not subscriptable"
     ]
    }
   ],
   "source": [
    "my_df.drop[1]"
   ]
  },
  {
   "cell_type": "code",
   "execution_count": 2,
   "id": "a7069df1",
   "metadata": {},
   "outputs": [],
   "source": [
    "import pandas as pd\n",
    "\n",
    "df1 = pd.DataFrame({\n",
    "    'id': [1, 2, 3],\n",
    "    'name': ['Alice', 'Bob', 'Charlie']\n",
    "})\n",
    "\n",
    "df2 = pd.DataFrame({\n",
    "    'id': [1, 2, 4],\n",
    "    'marks': [85, 90, 95]\n",
    "})"
   ]
  },
  {
   "cell_type": "code",
   "execution_count": 14,
   "id": "942dc961-a860-4760-a9ac-fc067fc324b5",
   "metadata": {},
   "outputs": [
    {
     "data": {
      "text/html": [
       "<div>\n",
       "<style scoped>\n",
       "    .dataframe tbody tr th:only-of-type {\n",
       "        vertical-align: middle;\n",
       "    }\n",
       "\n",
       "    .dataframe tbody tr th {\n",
       "        vertical-align: top;\n",
       "    }\n",
       "\n",
       "    .dataframe thead th {\n",
       "        text-align: right;\n",
       "    }\n",
       "</style>\n",
       "<table border=\"1\" class=\"dataframe\">\n",
       "  <thead>\n",
       "    <tr style=\"text-align: right;\">\n",
       "      <th></th>\n",
       "      <th>id</th>\n",
       "      <th>name</th>\n",
       "      <th>marks</th>\n",
       "    </tr>\n",
       "  </thead>\n",
       "  <tbody>\n",
       "    <tr>\n",
       "      <th>0</th>\n",
       "      <td>1</td>\n",
       "      <td>Alice</td>\n",
       "      <td>85.0</td>\n",
       "    </tr>\n",
       "    <tr>\n",
       "      <th>1</th>\n",
       "      <td>2</td>\n",
       "      <td>Bob</td>\n",
       "      <td>90.0</td>\n",
       "    </tr>\n",
       "    <tr>\n",
       "      <th>2</th>\n",
       "      <td>3</td>\n",
       "      <td>Charlie</td>\n",
       "      <td>NaN</td>\n",
       "    </tr>\n",
       "    <tr>\n",
       "      <th>3</th>\n",
       "      <td>4</td>\n",
       "      <td>NaN</td>\n",
       "      <td>95.0</td>\n",
       "    </tr>\n",
       "  </tbody>\n",
       "</table>\n",
       "</div>"
      ],
      "text/plain": [
       "   id     name  marks\n",
       "0   1    Alice   85.0\n",
       "1   2      Bob   90.0\n",
       "2   3  Charlie    NaN\n",
       "3   4      NaN   95.0"
      ]
     },
     "execution_count": 14,
     "metadata": {},
     "output_type": "execute_result"
    }
   ],
   "source": [
    "pd.merge(df1,df2,how = \"outer\")"
   ]
  },
  {
   "cell_type": "code",
   "execution_count": 16,
   "id": "4234a5aa-9581-4970-9002-e16de7ce8d8b",
   "metadata": {},
   "outputs": [
    {
     "name": "stdout",
     "output_type": "stream",
     "text": [
      "  Department Employee Gender  Salary\n",
      "0      Sales        A      M   50000\n",
      "1      Sales        B      F   52000\n",
      "2         HR        C      F   42000\n",
      "3         HR        D      M   41000\n",
      "4         IT        E      M   60000\n",
      "5         IT        F      F   62000\n"
     ]
    }
   ],
   "source": [
    "import pandas as pd\n",
    "\n",
    "data = {\n",
    "    'Department': ['Sales', 'Sales', 'HR', 'HR', 'IT', 'IT'],\n",
    "    'Employee': ['A', 'B', 'C', 'D', 'E', 'F'],\n",
    "    'Gender': ['M', 'F', 'F', 'M', 'M', 'F'],\n",
    "    'Salary': [50000, 52000, 42000, 41000, 60000, 62000]\n",
    "}\n",
    "\n",
    "df = pd.DataFrame(data)\n",
    "print(df)\n"
   ]
  },
  {
   "cell_type": "code",
   "execution_count": 24,
   "id": "a65ed7ab-2daf-43d2-ba67-8f05dc016366",
   "metadata": {},
   "outputs": [
    {
     "data": {
      "text/html": [
       "<div>\n",
       "<style scoped>\n",
       "    .dataframe tbody tr th:only-of-type {\n",
       "        vertical-align: middle;\n",
       "    }\n",
       "\n",
       "    .dataframe tbody tr th {\n",
       "        vertical-align: top;\n",
       "    }\n",
       "\n",
       "    .dataframe thead th {\n",
       "        text-align: right;\n",
       "    }\n",
       "</style>\n",
       "<table border=\"1\" class=\"dataframe\">\n",
       "  <thead>\n",
       "    <tr style=\"text-align: right;\">\n",
       "      <th></th>\n",
       "      <th>Salary</th>\n",
       "    </tr>\n",
       "    <tr>\n",
       "      <th>Department</th>\n",
       "      <th></th>\n",
       "    </tr>\n",
       "  </thead>\n",
       "  <tbody>\n",
       "    <tr>\n",
       "      <th>HR</th>\n",
       "      <td>41500.0</td>\n",
       "    </tr>\n",
       "    <tr>\n",
       "      <th>IT</th>\n",
       "      <td>61000.0</td>\n",
       "    </tr>\n",
       "    <tr>\n",
       "      <th>Sales</th>\n",
       "      <td>51000.0</td>\n",
       "    </tr>\n",
       "  </tbody>\n",
       "</table>\n",
       "</div>"
      ],
      "text/plain": [
       "             Salary\n",
       "Department         \n",
       "HR          41500.0\n",
       "IT          61000.0\n",
       "Sales       51000.0"
      ]
     },
     "execution_count": 24,
     "metadata": {},
     "output_type": "execute_result"
    }
   ],
   "source": [
    "pd.pivot_table(df,index=\"Department\",values = \"Salary\", aggfunc='mean')"
   ]
  },
  {
   "cell_type": "code",
   "execution_count": 14,
   "id": "f4cddde7-6392-460c-a7ac-36c263e3488c",
   "metadata": {},
   "outputs": [],
   "source": [
    "# Import missing random module\n",
    "import random\n",
    "\n",
    "# Regenerate the data after importing random\n",
    "products = ['Laptop', 'Smartphone', 'Tablet', 'Monitor', 'Keyboard', 'Mouse', 'Printer', 'Router']\n",
    "regions = ['North', 'South', 'East', 'West']\n",
    "salespersons = ['Alice', 'Bob', 'Charlie', 'David', 'Eva', 'Frank']\n",
    "payment_methods = ['Credit Card', 'Cash', 'Online Transfer', 'UPI']\n",
    "\n",
    "data = []\n",
    "start_date = datetime(2024, 1, 1)\n",
    "\n",
    "for i in range(50):\n",
    "    sale_date = start_date + timedelta(days=random.randint(0, 100))\n",
    "    units_sold = random.randint(1, 20)\n",
    "    unit_price = round(random.uniform(50, 1000), 2)\n",
    "    total_sale = round(units_sold * unit_price, 2)\n",
    "    data.append({\n",
    "        'Date': sale_date.strftime('%Y-%m-%d'),\n",
    "        'Product': random.choice(products),\n",
    "        'Region': random.choice(regions),\n",
    "        'Salesperson': random.choice(salespersons),\n",
    "        'Units Sold': units_sold,\n",
    "        'Unit Price': unit_price,\n",
    "        'Total Sale': total_sale,\n",
    "        'Payment Method': random.choice(payment_methods)\n",
    "    })\n",
    "\n",
    "# Convert to DataFrame\n",
    "df = pd.DataFrame(data)\n",
    "\n",
    "# Save to CSV\n",
    "\n",
    "df.to_csv(\"sample_sales_data.csv\", index=False)"
   ]
  },
  {
   "cell_type": "code",
   "execution_count": 16,
   "id": "77f3266b-149f-486c-ac14-1c303f4de8ec",
   "metadata": {},
   "outputs": [],
   "source": [
    "df = pd.read_csv(\"sample_sales_data.csv\")"
   ]
  },
  {
   "cell_type": "code",
   "execution_count": 48,
   "id": "8cdd99a4-3675-459d-a657-f003cf7a816e",
   "metadata": {},
   "outputs": [
    {
     "data": {
      "text/html": [
       "<div>\n",
       "<style scoped>\n",
       "    .dataframe tbody tr th:only-of-type {\n",
       "        vertical-align: middle;\n",
       "    }\n",
       "\n",
       "    .dataframe tbody tr th {\n",
       "        vertical-align: top;\n",
       "    }\n",
       "\n",
       "    .dataframe thead th {\n",
       "        text-align: right;\n",
       "    }\n",
       "</style>\n",
       "<table border=\"1\" class=\"dataframe\">\n",
       "  <thead>\n",
       "    <tr style=\"text-align: right;\">\n",
       "      <th></th>\n",
       "      <th>Date</th>\n",
       "      <th>Product</th>\n",
       "      <th>Region</th>\n",
       "      <th>Salesperson</th>\n",
       "      <th>Units Sold</th>\n",
       "      <th>Unit Price</th>\n",
       "      <th>Total Sale</th>\n",
       "      <th>Payment Method</th>\n",
       "    </tr>\n",
       "  </thead>\n",
       "  <tbody>\n",
       "    <tr>\n",
       "      <th>0</th>\n",
       "      <td>2024-03-13</td>\n",
       "      <td>Mouse</td>\n",
       "      <td>North</td>\n",
       "      <td>Eva</td>\n",
       "      <td>13</td>\n",
       "      <td>51.38</td>\n",
       "      <td>667.94</td>\n",
       "      <td>UPI</td>\n",
       "    </tr>\n",
       "    <tr>\n",
       "      <th>1</th>\n",
       "      <td>2024-02-08</td>\n",
       "      <td>Router</td>\n",
       "      <td>West</td>\n",
       "      <td>Bob</td>\n",
       "      <td>13</td>\n",
       "      <td>685.09</td>\n",
       "      <td>8906.17</td>\n",
       "      <td>Credit Card</td>\n",
       "    </tr>\n",
       "    <tr>\n",
       "      <th>2</th>\n",
       "      <td>2024-01-13</td>\n",
       "      <td>Laptop</td>\n",
       "      <td>South</td>\n",
       "      <td>Bob</td>\n",
       "      <td>3</td>\n",
       "      <td>448.74</td>\n",
       "      <td>1346.22</td>\n",
       "      <td>UPI</td>\n",
       "    </tr>\n",
       "    <tr>\n",
       "      <th>3</th>\n",
       "      <td>2024-01-18</td>\n",
       "      <td>Printer</td>\n",
       "      <td>North</td>\n",
       "      <td>David</td>\n",
       "      <td>10</td>\n",
       "      <td>406.70</td>\n",
       "      <td>4067.00</td>\n",
       "      <td>UPI</td>\n",
       "    </tr>\n",
       "    <tr>\n",
       "      <th>4</th>\n",
       "      <td>2024-02-20</td>\n",
       "      <td>Printer</td>\n",
       "      <td>South</td>\n",
       "      <td>David</td>\n",
       "      <td>11</td>\n",
       "      <td>828.51</td>\n",
       "      <td>9113.61</td>\n",
       "      <td>UPI</td>\n",
       "    </tr>\n",
       "    <tr>\n",
       "      <th>5</th>\n",
       "      <td>2024-03-01</td>\n",
       "      <td>Smartphone</td>\n",
       "      <td>South</td>\n",
       "      <td>Charlie</td>\n",
       "      <td>8</td>\n",
       "      <td>358.59</td>\n",
       "      <td>2868.72</td>\n",
       "      <td>Online Transfer</td>\n",
       "    </tr>\n",
       "    <tr>\n",
       "      <th>6</th>\n",
       "      <td>2024-03-13</td>\n",
       "      <td>Monitor</td>\n",
       "      <td>West</td>\n",
       "      <td>Charlie</td>\n",
       "      <td>6</td>\n",
       "      <td>931.90</td>\n",
       "      <td>5591.40</td>\n",
       "      <td>Online Transfer</td>\n",
       "    </tr>\n",
       "    <tr>\n",
       "      <th>7</th>\n",
       "      <td>2024-03-31</td>\n",
       "      <td>Mouse</td>\n",
       "      <td>North</td>\n",
       "      <td>David</td>\n",
       "      <td>3</td>\n",
       "      <td>343.64</td>\n",
       "      <td>1030.92</td>\n",
       "      <td>Credit Card</td>\n",
       "    </tr>\n",
       "    <tr>\n",
       "      <th>8</th>\n",
       "      <td>2024-01-11</td>\n",
       "      <td>Router</td>\n",
       "      <td>South</td>\n",
       "      <td>Eva</td>\n",
       "      <td>19</td>\n",
       "      <td>690.17</td>\n",
       "      <td>13113.23</td>\n",
       "      <td>Online Transfer</td>\n",
       "    </tr>\n",
       "    <tr>\n",
       "      <th>9</th>\n",
       "      <td>2024-01-26</td>\n",
       "      <td>Laptop</td>\n",
       "      <td>West</td>\n",
       "      <td>Frank</td>\n",
       "      <td>9</td>\n",
       "      <td>815.78</td>\n",
       "      <td>7342.02</td>\n",
       "      <td>Cash</td>\n",
       "    </tr>\n",
       "  </tbody>\n",
       "</table>\n",
       "</div>"
      ],
      "text/plain": [
       "         Date     Product Region Salesperson  Units Sold  Unit Price  \\\n",
       "0  2024-03-13       Mouse  North         Eva          13       51.38   \n",
       "1  2024-02-08      Router   West         Bob          13      685.09   \n",
       "2  2024-01-13      Laptop  South         Bob           3      448.74   \n",
       "3  2024-01-18     Printer  North       David          10      406.70   \n",
       "4  2024-02-20     Printer  South       David          11      828.51   \n",
       "5  2024-03-01  Smartphone  South     Charlie           8      358.59   \n",
       "6  2024-03-13     Monitor   West     Charlie           6      931.90   \n",
       "7  2024-03-31       Mouse  North       David           3      343.64   \n",
       "8  2024-01-11      Router  South         Eva          19      690.17   \n",
       "9  2024-01-26      Laptop   West       Frank           9      815.78   \n",
       "\n",
       "   Total Sale   Payment Method  \n",
       "0      667.94              UPI  \n",
       "1     8906.17      Credit Card  \n",
       "2     1346.22              UPI  \n",
       "3     4067.00              UPI  \n",
       "4     9113.61              UPI  \n",
       "5     2868.72  Online Transfer  \n",
       "6     5591.40  Online Transfer  \n",
       "7     1030.92      Credit Card  \n",
       "8    13113.23  Online Transfer  \n",
       "9     7342.02             Cash  "
      ]
     },
     "execution_count": 48,
     "metadata": {},
     "output_type": "execute_result"
    }
   ],
   "source": [
    "df.head(10)"
   ]
  },
  {
   "cell_type": "code",
   "execution_count": 20,
   "id": "1b8ddc2c-e555-48cd-b516-58019b7b4732",
   "metadata": {},
   "outputs": [
    {
     "data": {
      "text/plain": [
       "(50, 8)"
      ]
     },
     "execution_count": 20,
     "metadata": {},
     "output_type": "execute_result"
    }
   ],
   "source": [
    "df.shape"
   ]
  },
  {
   "cell_type": "code",
   "execution_count": 42,
   "id": "b1bd7537-0176-48e7-8127-566f9b651ac3",
   "metadata": {},
   "outputs": [
    {
     "data": {
      "text/html": [
       "<div>\n",
       "<style scoped>\n",
       "    .dataframe tbody tr th:only-of-type {\n",
       "        vertical-align: middle;\n",
       "    }\n",
       "\n",
       "    .dataframe tbody tr th {\n",
       "        vertical-align: top;\n",
       "    }\n",
       "\n",
       "    .dataframe thead th {\n",
       "        text-align: right;\n",
       "    }\n",
       "</style>\n",
       "<table border=\"1\" class=\"dataframe\">\n",
       "  <thead>\n",
       "    <tr style=\"text-align: right;\">\n",
       "      <th></th>\n",
       "      <th>Total Sale</th>\n",
       "    </tr>\n",
       "    <tr>\n",
       "      <th>Salesperson</th>\n",
       "      <th></th>\n",
       "    </tr>\n",
       "  </thead>\n",
       "  <tbody>\n",
       "    <tr>\n",
       "      <th>Alice</th>\n",
       "      <td>35962.13</td>\n",
       "    </tr>\n",
       "    <tr>\n",
       "      <th>Bob</th>\n",
       "      <td>26954.97</td>\n",
       "    </tr>\n",
       "    <tr>\n",
       "      <th>Charlie</th>\n",
       "      <td>40435.51</td>\n",
       "    </tr>\n",
       "    <tr>\n",
       "      <th>David</th>\n",
       "      <td>90439.40</td>\n",
       "    </tr>\n",
       "    <tr>\n",
       "      <th>Eva</th>\n",
       "      <td>31473.23</td>\n",
       "    </tr>\n",
       "    <tr>\n",
       "      <th>Frank</th>\n",
       "      <td>48337.76</td>\n",
       "    </tr>\n",
       "  </tbody>\n",
       "</table>\n",
       "</div>"
      ],
      "text/plain": [
       "             Total Sale\n",
       "Salesperson            \n",
       "Alice          35962.13\n",
       "Bob            26954.97\n",
       "Charlie        40435.51\n",
       "David          90439.40\n",
       "Eva            31473.23\n",
       "Frank          48337.76"
      ]
     },
     "execution_count": 42,
     "metadata": {},
     "output_type": "execute_result"
    }
   ],
   "source": [
    "# pd.pivot_table(df,index=\"Salesperson\",columns=[\"Region\",\"Product\"])\n",
    "pd.pivot_table(df, index='Salesperson', values='Total Sale', aggfunc='sum')"
   ]
  },
  {
   "cell_type": "code",
   "execution_count": 6,
   "id": "282d58e5-eaf4-44f0-a90d-58c2a2e5575f",
   "metadata": {},
   "outputs": [],
   "source": [
    "ser = pd.Series(np.random.random(20))"
   ]
  },
  {
   "cell_type": "code",
   "execution_count": 8,
   "id": "b7150e59-6c1a-4c92-b284-7fee3f82f7ce",
   "metadata": {},
   "outputs": [
    {
     "data": {
      "text/plain": [
       "0     0.088022\n",
       "1     0.014063\n",
       "2     0.075614\n",
       "3     0.717626\n",
       "4     0.781826\n",
       "5     0.923992\n",
       "6     0.056776\n",
       "7     0.342430\n",
       "8     0.651794\n",
       "9     0.028461\n",
       "10    0.546023\n",
       "11    0.946750\n",
       "12    0.202618\n",
       "13    0.594315\n",
       "14    0.069247\n",
       "15    0.106812\n",
       "16    0.345923\n",
       "17    0.102900\n",
       "18    0.977110\n",
       "19    0.576357\n",
       "dtype: float64"
      ]
     },
     "execution_count": 8,
     "metadata": {},
     "output_type": "execute_result"
    }
   ],
   "source": [
    "ser"
   ]
  },
  {
   "cell_type": "code",
   "execution_count": 40,
   "id": "55933b47-a977-4990-9f79-e0309e0206be",
   "metadata": {},
   "outputs": [
    {
     "data": {
      "text/plain": [
       "[2, 3, 4, 5, 6, 6, 8]"
      ]
     },
     "execution_count": 40,
     "metadata": {},
     "output_type": "execute_result"
    }
   ],
   "source": [
    "# '''20. How to compute difference of differences between consequtive numbers of a series?'''\n",
    "ser = pd.Series([1, 3, 6, 10, 15, 21, 27, 35])\n",
    "# def diff(n):\n",
    "#  ans =[float(n[i+1]-n[i]) for i,val in enumerate(ser.iloc[:-1])]\n",
    "#  return ans\n",
    "\n",
    "ans = []\n",
    "for i in range(len(ser)-1):\n",
    "    # if i >= len(ser)-1:\n",
    "    #     ans.append()\n",
    "        \n",
    "    ans.append(ser[i+1]-ser[i])\n",
    "    \n",
    "\n",
    "# a=diff(ser)\n",
    "# print(a)\n",
    "# b=diff(a)\n",
    "# print(b)\n",
    "ans"
   ]
  },
  {
   "cell_type": "code",
   "execution_count": 30,
   "id": "44fd0836-4e33-4cb9-b056-69a1a4cd3a6e",
   "metadata": {},
   "outputs": [
    {
     "ename": "TypeError",
     "evalue": "cannot convert the series to <class 'int'>",
     "output_type": "error",
     "traceback": [
      "\u001b[1;31m---------------------------------------------------------------------------\u001b[0m",
      "\u001b[1;31mTypeError\u001b[0m                                 Traceback (most recent call last)",
      "Cell \u001b[1;32mIn[30], line 1\u001b[0m\n\u001b[1;32m----> 1\u001b[0m \u001b[38;5;28mlist\u001b[39m(\u001b[38;5;28mmap\u001b[39m(diff,\u001b[38;5;28mint\u001b[39m(ser)))\n",
      "File \u001b[1;32m~\\anaconda3\\Lib\\site-packages\\pandas\\core\\series.py:248\u001b[0m, in \u001b[0;36m_coerce_method.<locals>.wrapper\u001b[1;34m(self)\u001b[0m\n\u001b[0;32m    240\u001b[0m     warnings\u001b[38;5;241m.\u001b[39mwarn(\n\u001b[0;32m    241\u001b[0m         \u001b[38;5;124mf\u001b[39m\u001b[38;5;124m\"\u001b[39m\u001b[38;5;124mCalling \u001b[39m\u001b[38;5;132;01m{\u001b[39;00mconverter\u001b[38;5;241m.\u001b[39m\u001b[38;5;18m__name__\u001b[39m\u001b[38;5;132;01m}\u001b[39;00m\u001b[38;5;124m on a single element Series is \u001b[39m\u001b[38;5;124m\"\u001b[39m\n\u001b[0;32m    242\u001b[0m         \u001b[38;5;124m\"\u001b[39m\u001b[38;5;124mdeprecated and will raise a TypeError in the future. \u001b[39m\u001b[38;5;124m\"\u001b[39m\n\u001b[1;32m   (...)\u001b[0m\n\u001b[0;32m    245\u001b[0m         stacklevel\u001b[38;5;241m=\u001b[39mfind_stack_level(),\n\u001b[0;32m    246\u001b[0m     )\n\u001b[0;32m    247\u001b[0m     \u001b[38;5;28;01mreturn\u001b[39;00m converter(\u001b[38;5;28mself\u001b[39m\u001b[38;5;241m.\u001b[39miloc[\u001b[38;5;241m0\u001b[39m])\n\u001b[1;32m--> 248\u001b[0m \u001b[38;5;28;01mraise\u001b[39;00m \u001b[38;5;167;01mTypeError\u001b[39;00m(\u001b[38;5;124mf\u001b[39m\u001b[38;5;124m\"\u001b[39m\u001b[38;5;124mcannot convert the series to \u001b[39m\u001b[38;5;132;01m{\u001b[39;00mconverter\u001b[38;5;132;01m}\u001b[39;00m\u001b[38;5;124m\"\u001b[39m)\n",
      "\u001b[1;31mTypeError\u001b[0m: cannot convert the series to <class 'int'>"
     ]
    }
   ],
   "source": [
    "list(map(diff,int(ser)))"
   ]
  },
  {
   "cell_type": "code",
   "execution_count": 86,
   "id": "d0be8568-c784-4baf-beb4-99c7332196dc",
   "metadata": {},
   "outputs": [
    {
     "data": {
      "text/plain": [
       "fruit\n",
       "apple     3.0\n",
       "banana    8.0\n",
       "carrot    7.0\n",
       "Name: weights, dtype: float64"
      ]
     },
     "execution_count": 86,
     "metadata": {},
     "output_type": "execute_result"
    }
   ],
   "source": [
    "np.random.seed(100)\n",
    "fruit = pd.Series(np.random.choice(['apple', 'banana', 'carrot'], 10))\n",
    "weights = pd.Series(np.linspace(1, 10, 10))\n",
    "\n",
    "df = pd.DataFrame()\n",
    "df[\"fruit\"] = fruit\n",
    "df[\"weights\"]= weights\n",
    "df.head()\n",
    "\n",
    "df3 = df.groupby(\"fruit\")[\"weights\"].agg(['count',\"sum\"])\n",
    "df2 = df.groupby(\"fruit\")[\"weights\"].mean()\n",
    "df2\n",
    "#> [1.0, 2.0, 3.0, 4.0, 5.0, 6.0, 7.0, 8.0, 9.0, 10.0]\n",
    "#> ['banana', 'carrot', 'apple', 'carrot', 'carrot', 'apple', 'banana', 'carrot', 'apple', 'carrot']"
   ]
  },
  {
   "cell_type": "code",
   "execution_count": 88,
   "id": "46ca7e1f-a96a-4f62-9f06-4a6805cffb99",
   "metadata": {},
   "outputs": [
    {
     "data": {
      "text/html": [
       "<div>\n",
       "<style scoped>\n",
       "    .dataframe tbody tr th:only-of-type {\n",
       "        vertical-align: middle;\n",
       "    }\n",
       "\n",
       "    .dataframe tbody tr th {\n",
       "        vertical-align: top;\n",
       "    }\n",
       "\n",
       "    .dataframe thead th {\n",
       "        text-align: right;\n",
       "    }\n",
       "</style>\n",
       "<table border=\"1\" class=\"dataframe\">\n",
       "  <thead>\n",
       "    <tr style=\"text-align: right;\">\n",
       "      <th></th>\n",
       "      <th>count</th>\n",
       "      <th>sum</th>\n",
       "    </tr>\n",
       "    <tr>\n",
       "      <th>fruit</th>\n",
       "      <th></th>\n",
       "      <th></th>\n",
       "    </tr>\n",
       "  </thead>\n",
       "  <tbody>\n",
       "    <tr>\n",
       "      <th>apple</th>\n",
       "      <td>4</td>\n",
       "      <td>12.0</td>\n",
       "    </tr>\n",
       "    <tr>\n",
       "      <th>banana</th>\n",
       "      <td>1</td>\n",
       "      <td>8.0</td>\n",
       "    </tr>\n",
       "    <tr>\n",
       "      <th>carrot</th>\n",
       "      <td>5</td>\n",
       "      <td>35.0</td>\n",
       "    </tr>\n",
       "  </tbody>\n",
       "</table>\n",
       "</div>"
      ],
      "text/plain": [
       "        count   sum\n",
       "fruit              \n",
       "apple       4  12.0\n",
       "banana      1   8.0\n",
       "carrot      5  35.0"
      ]
     },
     "execution_count": 88,
     "metadata": {},
     "output_type": "execute_result"
    }
   ],
   "source": [
    "df3"
   ]
  },
  {
   "cell_type": "code",
   "execution_count": 90,
   "id": "75340b33-b473-439b-a084-dd046952ecea",
   "metadata": {},
   "outputs": [],
   "source": [
    "df3[\"Mean\"] = df3[\"sum\"]/df3[\"count\"]"
   ]
  },
  {
   "cell_type": "code",
   "execution_count": 78,
   "id": "62bd2c96-94b7-49aa-9d58-41597223411a",
   "metadata": {},
   "outputs": [
    {
     "data": {
      "text/html": [
       "<div>\n",
       "<style scoped>\n",
       "    .dataframe tbody tr th:only-of-type {\n",
       "        vertical-align: middle;\n",
       "    }\n",
       "\n",
       "    .dataframe tbody tr th {\n",
       "        vertical-align: top;\n",
       "    }\n",
       "\n",
       "    .dataframe thead th {\n",
       "        text-align: right;\n",
       "    }\n",
       "</style>\n",
       "<table border=\"1\" class=\"dataframe\">\n",
       "  <thead>\n",
       "    <tr style=\"text-align: right;\">\n",
       "      <th></th>\n",
       "      <th>count</th>\n",
       "      <th>sum</th>\n",
       "      <th>Mean</th>\n",
       "    </tr>\n",
       "    <tr>\n",
       "      <th>fruit</th>\n",
       "      <th></th>\n",
       "      <th></th>\n",
       "      <th></th>\n",
       "    </tr>\n",
       "  </thead>\n",
       "  <tbody>\n",
       "    <tr>\n",
       "      <th>apple</th>\n",
       "      <td>5</td>\n",
       "      <td>28.0</td>\n",
       "      <td>5.600000</td>\n",
       "    </tr>\n",
       "    <tr>\n",
       "      <th>banana</th>\n",
       "      <td>3</td>\n",
       "      <td>11.0</td>\n",
       "      <td>3.666667</td>\n",
       "    </tr>\n",
       "    <tr>\n",
       "      <th>carrot</th>\n",
       "      <td>2</td>\n",
       "      <td>16.0</td>\n",
       "      <td>8.000000</td>\n",
       "    </tr>\n",
       "  </tbody>\n",
       "</table>\n",
       "</div>"
      ],
      "text/plain": [
       "        count   sum      Mean\n",
       "fruit                        \n",
       "apple       5  28.0  5.600000\n",
       "banana      3  11.0  3.666667\n",
       "carrot      2  16.0  8.000000"
      ]
     },
     "execution_count": 78,
     "metadata": {},
     "output_type": "execute_result"
    }
   ],
   "source": [
    "df3"
   ]
  },
  {
   "cell_type": "code",
   "execution_count": 92,
   "id": "0dc40b45-a836-4ce6-ad8f-fa5bfc33234f",
   "metadata": {},
   "outputs": [],
   "source": [
    "p = pd.Series([1, 2, 3, 4, 5, 6, 7, 8, 9, 10])\n",
    "q = pd.Series([10, 9, 8, 7, 6, 5, 4, 3, 2, 1])"
   ]
  },
  {
   "cell_type": "code",
   "execution_count": 100,
   "id": "084623b5-0119-4ce2-b77c-eb760d3bff00",
   "metadata": {},
   "outputs": [
    {
     "data": {
      "text/plain": [
       "12.727922061357859"
      ]
     },
     "execution_count": 100,
     "metadata": {},
     "output_type": "execute_result"
    }
   ],
   "source": [
    "# lst = []\n",
    "# for i in range(len(p)-1):\n",
    "#     lst.append(np.sqrt((p[i]-p[i+1])**2 + (q[i]-q[i+1])**2))\n",
    "# sum(lst)"
   ]
  },
  {
   "cell_type": "code",
   "execution_count": 108,
   "id": "2bd1595c-a138-48ee-8a56-7b5f7255e3e7",
   "metadata": {},
   "outputs": [
    {
     "data": {
      "text/plain": [
       "18.16590212458495"
      ]
     },
     "execution_count": 108,
     "metadata": {},
     "output_type": "execute_result"
    }
   ],
   "source": [
    "np.sqrt(np.sum((p-q)**2))"
   ]
  },
  {
   "cell_type": "markdown",
   "id": "47994af7-8822-4dd8-82e9-f6d25d87232c",
   "metadata": {},
   "source": [
    "30. How to create a TimeSeries starting ‘2000-01-01’ and 10 weekends (saturdays) after that having random numbers as values?"
   ]
  },
  {
   "cell_type": "code",
   "execution_count": 121,
   "id": "0300714f-72ec-4a94-a78b-7b9e20976659",
   "metadata": {},
   "outputs": [
    {
     "data": {
      "text/plain": [
       "array(['2000-01-01', '2000-01-02', '2000-01-03', '2000-01-04',\n",
       "       '2000-01-05', '2000-01-06', '2000-01-07', '2000-01-08',\n",
       "       '2000-01-09', '2000-01-10', '2000-01-11', '2000-01-12',\n",
       "       '2000-01-13', '2000-01-14', '2000-01-15', '2000-01-16',\n",
       "       '2000-01-17', '2000-01-18', '2000-01-19', '2000-01-20',\n",
       "       '2000-01-21', '2000-01-22', '2000-01-23', '2000-01-24',\n",
       "       '2000-01-25', '2000-01-26', '2000-01-27', '2000-01-28',\n",
       "       '2000-01-29', '2000-01-30', '2000-01-31'], dtype='datetime64[D]')"
      ]
     },
     "execution_count": 121,
     "metadata": {},
     "output_type": "execute_result"
    }
   ],
   "source": [
    "np.arange(\"2000-01-01\",\"2000-02-01\",dtype='datetime64')"
   ]
  },
  {
   "cell_type": "code",
   "execution_count": null,
   "id": "0943408a-7256-4479-b70a-7c6cf1759900",
   "metadata": {},
   "outputs": [],
   "source": [
    "np.random"
   ]
  }
 ],
 "metadata": {
  "kernelspec": {
   "display_name": "Python 3 (ipykernel)",
   "language": "python",
   "name": "python3"
  },
  "language_info": {
   "codemirror_mode": {
    "name": "ipython",
    "version": 3
   },
   "file_extension": ".py",
   "mimetype": "text/x-python",
   "name": "python",
   "nbconvert_exporter": "python",
   "pygments_lexer": "ipython3",
   "version": "3.12.4"
  }
 },
 "nbformat": 4,
 "nbformat_minor": 5
}
