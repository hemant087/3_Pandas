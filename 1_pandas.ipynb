{
 "cells": [
  {
   "cell_type": "markdown",
   "id": "e10b8778",
   "metadata": {},
   "source": [
    "# pandas"
   ]
  },
  {
   "cell_type": "code",
   "execution_count": 2,
   "id": "e708d003",
   "metadata": {},
   "outputs": [],
   "source": [
    "import pandas as pd"
   ]
  },
  {
   "cell_type": "code",
   "execution_count": 3,
   "id": "41d64d63",
   "metadata": {},
   "outputs": [],
   "source": [
    "import numpy as np"
   ]
  },
  {
   "cell_type": "code",
   "execution_count": 4,
   "id": "7403eb65",
   "metadata": {},
   "outputs": [],
   "source": [
    "latters = ['a','b','c']\n",
    "numbers = [1,2,3]\n",
    "np_arr = np.array(numbers)\n",
    "dict = {'a':1,'b':2,'c':3}"
   ]
  },
  {
   "cell_type": "code",
   "execution_count": 5,
   "id": "fc0ed341",
   "metadata": {},
   "outputs": [
    {
     "data": {
      "text/plain": [
       "['a', 'b', 'c']"
      ]
     },
     "execution_count": 5,
     "metadata": {},
     "output_type": "execute_result"
    }
   ],
   "source": [
    "latters"
   ]
  },
  {
   "cell_type": "code",
   "execution_count": 6,
   "id": "42eff63b",
   "metadata": {},
   "outputs": [
    {
     "data": {
      "text/plain": [
       "[1, 2, 3]"
      ]
     },
     "execution_count": 6,
     "metadata": {},
     "output_type": "execute_result"
    }
   ],
   "source": [
    "numbers"
   ]
  },
  {
   "cell_type": "code",
   "execution_count": 7,
   "id": "26fc37c0",
   "metadata": {},
   "outputs": [
    {
     "data": {
      "text/plain": [
       "array([1, 2, 3])"
      ]
     },
     "execution_count": 7,
     "metadata": {},
     "output_type": "execute_result"
    }
   ],
   "source": [
    "np_arr"
   ]
  },
  {
   "cell_type": "code",
   "execution_count": 8,
   "id": "8dbc948d",
   "metadata": {},
   "outputs": [
    {
     "data": {
      "text/plain": [
       "{'a': 1, 'b': 2, 'c': 3}"
      ]
     },
     "execution_count": 8,
     "metadata": {},
     "output_type": "execute_result"
    }
   ],
   "source": [
    "dict"
   ]
  },
  {
   "cell_type": "code",
   "execution_count": 10,
   "id": "6c939474",
   "metadata": {},
   "outputs": [
    {
     "data": {
      "text/plain": [
       "0    1\n",
       "1    2\n",
       "2    3\n",
       "dtype: int64"
      ]
     },
     "execution_count": 10,
     "metadata": {},
     "output_type": "execute_result"
    }
   ],
   "source": [
    "pd.Series(data = numbers)"
   ]
  },
  {
   "cell_type": "code",
   "execution_count": 19,
   "id": "4d9026dc",
   "metadata": {},
   "outputs": [
    {
     "data": {
      "text/plain": [
       "a    1\n",
       "b    2\n",
       "c    3\n",
       "dtype: int64"
      ]
     },
     "execution_count": 19,
     "metadata": {},
     "output_type": "execute_result"
    }
   ],
   "source": [
    "pd.Series(data = numbers, index = latters)"
   ]
  },
  {
   "cell_type": "code",
   "execution_count": 20,
   "id": "e14176eb",
   "metadata": {},
   "outputs": [],
   "source": [
    "new = pd.Series(latters,numbers)"
   ]
  },
  {
   "cell_type": "code",
   "execution_count": 21,
   "id": "d1ce3f4a",
   "metadata": {},
   "outputs": [
    {
     "data": {
      "text/plain": [
       "1    aa\n",
       "2    bb\n",
       "3    cc\n",
       "dtype: object"
      ]
     },
     "execution_count": 21,
     "metadata": {},
     "output_type": "execute_result"
    }
   ],
   "source": [
    "new + new"
   ]
  },
  {
   "cell_type": "code",
   "execution_count": 63,
   "id": "966616fb",
   "metadata": {},
   "outputs": [],
   "source": [
    "my_df = pd.DataFrame(np.random.randn(4,5),[1,2,3,4,],['red','orange','yallow','blue','green'])"
   ]
  },
  {
   "cell_type": "code",
   "execution_count": 54,
   "id": "7af30ce7",
   "metadata": {},
   "outputs": [
    {
     "data": {
      "text/html": [
       "<div>\n",
       "<style scoped>\n",
       "    .dataframe tbody tr th:only-of-type {\n",
       "        vertical-align: middle;\n",
       "    }\n",
       "\n",
       "    .dataframe tbody tr th {\n",
       "        vertical-align: top;\n",
       "    }\n",
       "\n",
       "    .dataframe thead th {\n",
       "        text-align: right;\n",
       "    }\n",
       "</style>\n",
       "<table border=\"1\" class=\"dataframe\">\n",
       "  <thead>\n",
       "    <tr style=\"text-align: right;\">\n",
       "      <th></th>\n",
       "      <th>red</th>\n",
       "      <th>orange</th>\n",
       "      <th>yallow</th>\n",
       "      <th>blue</th>\n",
       "      <th>green</th>\n",
       "    </tr>\n",
       "  </thead>\n",
       "  <tbody>\n",
       "    <tr>\n",
       "      <th>1</th>\n",
       "      <td>0.341189</td>\n",
       "      <td>0.439028</td>\n",
       "      <td>0.335585</td>\n",
       "      <td>-0.804825</td>\n",
       "      <td>1.696999</td>\n",
       "    </tr>\n",
       "    <tr>\n",
       "      <th>2</th>\n",
       "      <td>1.675501</td>\n",
       "      <td>0.136915</td>\n",
       "      <td>0.349051</td>\n",
       "      <td>-0.460787</td>\n",
       "      <td>1.206540</td>\n",
       "    </tr>\n",
       "    <tr>\n",
       "      <th>3</th>\n",
       "      <td>0.939810</td>\n",
       "      <td>1.458592</td>\n",
       "      <td>0.360792</td>\n",
       "      <td>-0.480049</td>\n",
       "      <td>0.410658</td>\n",
       "    </tr>\n",
       "    <tr>\n",
       "      <th>4</th>\n",
       "      <td>1.163294</td>\n",
       "      <td>1.827354</td>\n",
       "      <td>-0.526605</td>\n",
       "      <td>-1.770506</td>\n",
       "      <td>-0.675966</td>\n",
       "    </tr>\n",
       "  </tbody>\n",
       "</table>\n",
       "</div>"
      ],
      "text/plain": [
       "        red    orange    yallow      blue     green\n",
       "1  0.341189  0.439028  0.335585 -0.804825  1.696999\n",
       "2  1.675501  0.136915  0.349051 -0.460787  1.206540\n",
       "3  0.939810  1.458592  0.360792 -0.480049  0.410658\n",
       "4  1.163294  1.827354 -0.526605 -1.770506 -0.675966"
      ]
     },
     "execution_count": 54,
     "metadata": {},
     "output_type": "execute_result"
    }
   ],
   "source": [
    "my_df"
   ]
  },
  {
   "cell_type": "code",
   "execution_count": 55,
   "id": "ca5285d5",
   "metadata": {},
   "outputs": [],
   "source": [
    "my_df['indigo'] = my_df['red']+my_df['orange']\n",
    "my_df['voilat'] = my_df['indigo']+my_df['green']"
   ]
  },
  {
   "cell_type": "code",
   "execution_count": 56,
   "id": "3ac15634",
   "metadata": {},
   "outputs": [
    {
     "data": {
      "text/html": [
       "<div>\n",
       "<style scoped>\n",
       "    .dataframe tbody tr th:only-of-type {\n",
       "        vertical-align: middle;\n",
       "    }\n",
       "\n",
       "    .dataframe tbody tr th {\n",
       "        vertical-align: top;\n",
       "    }\n",
       "\n",
       "    .dataframe thead th {\n",
       "        text-align: right;\n",
       "    }\n",
       "</style>\n",
       "<table border=\"1\" class=\"dataframe\">\n",
       "  <thead>\n",
       "    <tr style=\"text-align: right;\">\n",
       "      <th></th>\n",
       "      <th>red</th>\n",
       "      <th>orange</th>\n",
       "      <th>yallow</th>\n",
       "      <th>blue</th>\n",
       "      <th>green</th>\n",
       "      <th>indigo</th>\n",
       "      <th>voilat</th>\n",
       "    </tr>\n",
       "  </thead>\n",
       "  <tbody>\n",
       "    <tr>\n",
       "      <th>1</th>\n",
       "      <td>0.341189</td>\n",
       "      <td>0.439028</td>\n",
       "      <td>0.335585</td>\n",
       "      <td>-0.804825</td>\n",
       "      <td>1.696999</td>\n",
       "      <td>0.780217</td>\n",
       "      <td>2.477216</td>\n",
       "    </tr>\n",
       "    <tr>\n",
       "      <th>2</th>\n",
       "      <td>1.675501</td>\n",
       "      <td>0.136915</td>\n",
       "      <td>0.349051</td>\n",
       "      <td>-0.460787</td>\n",
       "      <td>1.206540</td>\n",
       "      <td>1.812416</td>\n",
       "      <td>3.018955</td>\n",
       "    </tr>\n",
       "    <tr>\n",
       "      <th>3</th>\n",
       "      <td>0.939810</td>\n",
       "      <td>1.458592</td>\n",
       "      <td>0.360792</td>\n",
       "      <td>-0.480049</td>\n",
       "      <td>0.410658</td>\n",
       "      <td>2.398402</td>\n",
       "      <td>2.809060</td>\n",
       "    </tr>\n",
       "    <tr>\n",
       "      <th>4</th>\n",
       "      <td>1.163294</td>\n",
       "      <td>1.827354</td>\n",
       "      <td>-0.526605</td>\n",
       "      <td>-1.770506</td>\n",
       "      <td>-0.675966</td>\n",
       "      <td>2.990648</td>\n",
       "      <td>2.314682</td>\n",
       "    </tr>\n",
       "  </tbody>\n",
       "</table>\n",
       "</div>"
      ],
      "text/plain": [
       "        red    orange    yallow      blue     green    indigo    voilat\n",
       "1  0.341189  0.439028  0.335585 -0.804825  1.696999  0.780217  2.477216\n",
       "2  1.675501  0.136915  0.349051 -0.460787  1.206540  1.812416  3.018955\n",
       "3  0.939810  1.458592  0.360792 -0.480049  0.410658  2.398402  2.809060\n",
       "4  1.163294  1.827354 -0.526605 -1.770506 -0.675966  2.990648  2.314682"
      ]
     },
     "execution_count": 56,
     "metadata": {},
     "output_type": "execute_result"
    }
   ],
   "source": [
    "my_df"
   ]
  },
  {
   "cell_type": "code",
   "execution_count": 57,
   "id": "ec8852fa",
   "metadata": {},
   "outputs": [
    {
     "data": {
      "text/plain": [
       "red       0.341189\n",
       "orange    0.439028\n",
       "yallow    0.335585\n",
       "blue     -0.804825\n",
       "green     1.696999\n",
       "indigo    0.780217\n",
       "voilat    2.477216\n",
       "Name: 1, dtype: float64"
      ]
     },
     "execution_count": 57,
     "metadata": {},
     "output_type": "execute_result"
    }
   ],
   "source": [
    "my_df.loc[1]"
   ]
  },
  {
   "cell_type": "code",
   "execution_count": 58,
   "id": "12913cd4",
   "metadata": {},
   "outputs": [
    {
     "data": {
      "text/plain": [
       "red       1.675501\n",
       "orange    0.136915\n",
       "yallow    0.349051\n",
       "blue     -0.460787\n",
       "green     1.206540\n",
       "indigo    1.812416\n",
       "voilat    3.018955\n",
       "Name: 2, dtype: float64"
      ]
     },
     "execution_count": 58,
     "metadata": {},
     "output_type": "execute_result"
    }
   ],
   "source": [
    "my_df.iloc[1]"
   ]
  },
  {
   "cell_type": "code",
   "execution_count": 60,
   "id": "e5799abb",
   "metadata": {},
   "outputs": [
    {
     "ename": "TypeError",
     "evalue": "'method' object is not subscriptable",
     "output_type": "error",
     "traceback": [
      "\u001b[1;31m---------------------------------------------------------------------------\u001b[0m",
      "\u001b[1;31mTypeError\u001b[0m                                 Traceback (most recent call last)",
      "\u001b[1;32m~\\AppData\\Local\\Temp\\ipykernel_10472\\1028857306.py\u001b[0m in \u001b[0;36m<module>\u001b[1;34m\u001b[0m\n\u001b[1;32m----> 1\u001b[1;33m \u001b[0mmy_df\u001b[0m\u001b[1;33m.\u001b[0m\u001b[0mdrop\u001b[0m\u001b[1;33m[\u001b[0m\u001b[1;36m1\u001b[0m\u001b[1;33m]\u001b[0m\u001b[1;33m\u001b[0m\u001b[1;33m\u001b[0m\u001b[0m\n\u001b[0m",
      "\u001b[1;31mTypeError\u001b[0m: 'method' object is not subscriptable"
     ]
    }
   ],
   "source": [
    "my_df.drop[1]"
   ]
  },
  {
   "cell_type": "code",
   "execution_count": null,
   "id": "a7069df1",
   "metadata": {},
   "outputs": [],
   "source": []
  }
 ],
 "metadata": {
  "kernelspec": {
   "display_name": "Python 3 (ipykernel)",
   "language": "python",
   "name": "python3"
  },
  "language_info": {
   "codemirror_mode": {
    "name": "ipython",
    "version": 3
   },
   "file_extension": ".py",
   "mimetype": "text/x-python",
   "name": "python",
   "nbconvert_exporter": "python",
   "pygments_lexer": "ipython3",
   "version": "3.9.13"
  }
 },
 "nbformat": 4,
 "nbformat_minor": 5
}
