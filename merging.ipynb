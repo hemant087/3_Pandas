{
 "cells": [
  {
   "cell_type": "code",
   "execution_count": 2,
   "metadata": {
    "id": "a5Z8pAwoVxoP"
   },
   "outputs": [],
   "source": [
    "import pandas as pd\n",
    "import numpy as np"
   ]
  },
  {
   "cell_type": "code",
   "execution_count": 112,
   "metadata": {
    "id": "ziYWX2MFJb6x"
   },
   "outputs": [],
   "source": [
    "courses = pd.read_csv('datasets/courses.csv')\n",
    "students = pd.read_csv('datasets/students.csv')\n",
    "nov = pd.read_csv('datasets/reg-month1.csv')\n",
    "dec = pd.read_csv('datasets/reg-month2.csv')\n",
    "\n",
    "# ipl\n",
    "matches = pd.read_csv('datasets/matches.csv')\n",
    "delivery = pd.read_csv('datasets/deliveries.csv')"
   ]
  },
  {
   "cell_type": "code",
   "execution_count": 81,
   "metadata": {},
   "outputs": [],
   "source": [
    "# courses"
   ]
  },
  {
   "cell_type": "markdown",
   "metadata": {
    "colab": {
     "base_uri": "https://localhost:8080/",
     "height": 927
    },
    "id": "nF2pPvBQHOzk",
    "outputId": "7289ccdb-b4e6-444c-a22b-c34c35dec665"
   },
   "source": [
    "# Learning"
   ]
  },
  {
   "cell_type": "code",
   "execution_count": null,
   "metadata": {
    "id": "TXh8WSR1JkpL"
   },
   "outputs": [],
   "source": [
    "# pd.concat\n",
    "# df.concat\n",
    "# ignore_index\n",
    "# df.append\n",
    "# mullitindex -> fetch using iloc\n",
    "# concat dataframes horizontally"
   ]
  },
  {
   "cell_type": "code",
   "execution_count": 10,
   "metadata": {
    "colab": {
     "base_uri": "https://localhost:8080/",
     "height": 1000
    },
    "id": "7XxxSP53TUB-",
    "outputId": "bbc46f60-42a3-4ceb-b3fc-2d260c6e8ef9"
   },
   "outputs": [],
   "source": [
    "regs = pd.concat([nov,dec],ignore_index=True)\n",
    "# regs"
   ]
  },
  {
   "cell_type": "code",
   "execution_count": 12,
   "metadata": {
    "colab": {
     "base_uri": "https://localhost:8080/",
     "height": 1000
    },
    "id": "l3E06WOaJrCe",
    "outputId": "c7de05ce-d59e-4ca4-d482-6ae48b01967e"
   },
   "outputs": [],
   "source": [
    "# nov.append(dec,ignore_index=True)"
   ]
  },
  {
   "cell_type": "code",
   "execution_count": null,
   "metadata": {
    "colab": {
     "base_uri": "https://localhost:8080/"
    },
    "id": "lIEsSHACKPFk",
    "outputId": "f8d28adf-73b6-4748-b23b-c81c175496c7"
   },
   "outputs": [
    {
     "data": {
      "text/plain": [
       "student_id    14\n",
       "course_id      9\n",
       "Name: (Dec, 4), dtype: int64"
      ]
     },
     "execution_count": 112,
     "metadata": {},
     "output_type": "execute_result"
    }
   ],
   "source": [
    "multi = pd.concat([nov,dec],keys=['Nov','Dec'])\n",
    "# Multiindex DataFrame\n",
    "multi.loc[('Dec',4)]"
   ]
  },
  {
   "cell_type": "code",
   "execution_count": 14,
   "metadata": {
    "colab": {
     "base_uri": "https://localhost:8080/",
     "height": 927
    },
    "id": "Og1iAGNuLiVC",
    "outputId": "65d930c3-1139-4c79-ad3e-193bfc5342d4"
   },
   "outputs": [],
   "source": [
    "# pd.concat([nov,dec],axis=1)"
   ]
  },
  {
   "cell_type": "code",
   "execution_count": 16,
   "metadata": {
    "colab": {
     "base_uri": "https://localhost:8080/",
     "height": 1000
    },
    "id": "HQL6BVt5aW7-",
    "outputId": "ae8ceedc-3c23-4b36-95be-3f1d78a609aa"
   },
   "outputs": [],
   "source": [
    "# inner join\n",
    "# students.merge(regs,how='inner',on='student_id')"
   ]
  },
  {
   "cell_type": "code",
   "execution_count": 18,
   "metadata": {
    "colab": {
     "base_uri": "https://localhost:8080/",
     "height": 1000
    },
    "id": "BWAYHLYlaYd9",
    "outputId": "6b09bd32-6ff7-42d6-8ce0-c8ed065da9fe"
   },
   "outputs": [],
   "source": [
    "# left join\n",
    "# courses.merge(regs,how='left',on='course_id')"
   ]
  },
  {
   "cell_type": "code",
   "execution_count": null,
   "metadata": {
    "id": "Sr26A-bQabml"
   },
   "outputs": [],
   "source": [
    "# right join\n",
    "temp_df = pd.DataFrame({\n",
    "    'student_id':[26,27,28],\n",
    "    'name':['Nitish','Ankit','Rahul'],\n",
    "    'partner':[28,26,17]\n",
    "})\n",
    "\n",
    "students = pd.concat([students,temp_df],ignore_index=True)"
   ]
  },
  {
   "cell_type": "code",
   "execution_count": null,
   "metadata": {
    "colab": {
     "base_uri": "https://localhost:8080/",
     "height": 206
    },
    "id": "WMBYOaAERdvJ",
    "outputId": "b10d6d6f-34f8-487f-c982-ceb751de5da4"
   },
   "outputs": [
    {
     "data": {
      "text/html": [
       "\n",
       "  <div id=\"df-016fcb33-fbfd-41fb-b4f0-53981083c496\">\n",
       "    <div class=\"colab-df-container\">\n",
       "      <div>\n",
       "<style scoped>\n",
       "    .dataframe tbody tr th:only-of-type {\n",
       "        vertical-align: middle;\n",
       "    }\n",
       "\n",
       "    .dataframe tbody tr th {\n",
       "        vertical-align: top;\n",
       "    }\n",
       "\n",
       "    .dataframe thead th {\n",
       "        text-align: right;\n",
       "    }\n",
       "</style>\n",
       "<table border=\"1\" class=\"dataframe\">\n",
       "  <thead>\n",
       "    <tr style=\"text-align: right;\">\n",
       "      <th></th>\n",
       "      <th>student_id</th>\n",
       "      <th>name</th>\n",
       "      <th>partner</th>\n",
       "    </tr>\n",
       "  </thead>\n",
       "  <tbody>\n",
       "    <tr>\n",
       "      <th>23</th>\n",
       "      <td>24</td>\n",
       "      <td>Radhika Suri</td>\n",
       "      <td>17</td>\n",
       "    </tr>\n",
       "    <tr>\n",
       "      <th>24</th>\n",
       "      <td>25</td>\n",
       "      <td>Shashank D’Alia</td>\n",
       "      <td>2</td>\n",
       "    </tr>\n",
       "    <tr>\n",
       "      <th>25</th>\n",
       "      <td>26</td>\n",
       "      <td>Nitish</td>\n",
       "      <td>28</td>\n",
       "    </tr>\n",
       "    <tr>\n",
       "      <th>26</th>\n",
       "      <td>27</td>\n",
       "      <td>Ankit</td>\n",
       "      <td>26</td>\n",
       "    </tr>\n",
       "    <tr>\n",
       "      <th>27</th>\n",
       "      <td>28</td>\n",
       "      <td>Rahul</td>\n",
       "      <td>17</td>\n",
       "    </tr>\n",
       "  </tbody>\n",
       "</table>\n",
       "</div>\n",
       "      <button class=\"colab-df-convert\" onclick=\"convertToInteractive('df-016fcb33-fbfd-41fb-b4f0-53981083c496')\"\n",
       "              title=\"Convert this dataframe to an interactive table.\"\n",
       "              style=\"display:none;\">\n",
       "        \n",
       "  <svg xmlns=\"http://www.w3.org/2000/svg\" height=\"24px\"viewBox=\"0 0 24 24\"\n",
       "       width=\"24px\">\n",
       "    <path d=\"M0 0h24v24H0V0z\" fill=\"none\"/>\n",
       "    <path d=\"M18.56 5.44l.94 2.06.94-2.06 2.06-.94-2.06-.94-.94-2.06-.94 2.06-2.06.94zm-11 1L8.5 8.5l.94-2.06 2.06-.94-2.06-.94L8.5 2.5l-.94 2.06-2.06.94zm10 10l.94 2.06.94-2.06 2.06-.94-2.06-.94-.94-2.06-.94 2.06-2.06.94z\"/><path d=\"M17.41 7.96l-1.37-1.37c-.4-.4-.92-.59-1.43-.59-.52 0-1.04.2-1.43.59L10.3 9.45l-7.72 7.72c-.78.78-.78 2.05 0 2.83L4 21.41c.39.39.9.59 1.41.59.51 0 1.02-.2 1.41-.59l7.78-7.78 2.81-2.81c.8-.78.8-2.07 0-2.86zM5.41 20L4 18.59l7.72-7.72 1.47 1.35L5.41 20z\"/>\n",
       "  </svg>\n",
       "      </button>\n",
       "      \n",
       "  <style>\n",
       "    .colab-df-container {\n",
       "      display:flex;\n",
       "      flex-wrap:wrap;\n",
       "      gap: 12px;\n",
       "    }\n",
       "\n",
       "    .colab-df-convert {\n",
       "      background-color: #E8F0FE;\n",
       "      border: none;\n",
       "      border-radius: 50%;\n",
       "      cursor: pointer;\n",
       "      display: none;\n",
       "      fill: #1967D2;\n",
       "      height: 32px;\n",
       "      padding: 0 0 0 0;\n",
       "      width: 32px;\n",
       "    }\n",
       "\n",
       "    .colab-df-convert:hover {\n",
       "      background-color: #E2EBFA;\n",
       "      box-shadow: 0px 1px 2px rgba(60, 64, 67, 0.3), 0px 1px 3px 1px rgba(60, 64, 67, 0.15);\n",
       "      fill: #174EA6;\n",
       "    }\n",
       "\n",
       "    [theme=dark] .colab-df-convert {\n",
       "      background-color: #3B4455;\n",
       "      fill: #D2E3FC;\n",
       "    }\n",
       "\n",
       "    [theme=dark] .colab-df-convert:hover {\n",
       "      background-color: #434B5C;\n",
       "      box-shadow: 0px 1px 3px 1px rgba(0, 0, 0, 0.15);\n",
       "      filter: drop-shadow(0px 1px 2px rgba(0, 0, 0, 0.3));\n",
       "      fill: #FFFFFF;\n",
       "    }\n",
       "  </style>\n",
       "\n",
       "      <script>\n",
       "        const buttonEl =\n",
       "          document.querySelector('#df-016fcb33-fbfd-41fb-b4f0-53981083c496 button.colab-df-convert');\n",
       "        buttonEl.style.display =\n",
       "          google.colab.kernel.accessAllowed ? 'block' : 'none';\n",
       "\n",
       "        async function convertToInteractive(key) {\n",
       "          const element = document.querySelector('#df-016fcb33-fbfd-41fb-b4f0-53981083c496');\n",
       "          const dataTable =\n",
       "            await google.colab.kernel.invokeFunction('convertToInteractive',\n",
       "                                                     [key], {});\n",
       "          if (!dataTable) return;\n",
       "\n",
       "          const docLinkHtml = 'Like what you see? Visit the ' +\n",
       "            '<a target=\"_blank\" href=https://colab.research.google.com/notebooks/data_table.ipynb>data table notebook</a>'\n",
       "            + ' to learn more about interactive tables.';\n",
       "          element.innerHTML = '';\n",
       "          dataTable['output_type'] = 'display_data';\n",
       "          await google.colab.output.renderOutput(dataTable, element);\n",
       "          const docLink = document.createElement('div');\n",
       "          docLink.innerHTML = docLinkHtml;\n",
       "          element.appendChild(docLink);\n",
       "        }\n",
       "      </script>\n",
       "    </div>\n",
       "  </div>\n",
       "  "
      ],
      "text/plain": [
       "    student_id             name  partner\n",
       "23          24     Radhika Suri       17\n",
       "24          25  Shashank D’Alia        2\n",
       "25          26           Nitish       28\n",
       "26          27            Ankit       26\n",
       "27          28            Rahul       17"
      ]
     },
     "execution_count": 127,
     "metadata": {},
     "output_type": "execute_result"
    }
   ],
   "source": [
    "students.tail()"
   ]
  },
  {
   "cell_type": "code",
   "execution_count": 48,
   "metadata": {
    "colab": {
     "base_uri": "https://localhost:8080/",
     "height": 1000
    },
    "id": "5EZ2uvGWRkh4",
    "outputId": "3b3fc449-06d3-4620-9a54-4dd178ad519d"
   },
   "outputs": [],
   "source": [
    "# students.merge(regs,how='right',on='student_id')"
   ]
  },
  {
   "cell_type": "code",
   "execution_count": 44,
   "metadata": {
    "colab": {
     "base_uri": "https://localhost:8080/",
     "height": 1000
    },
    "id": "Xf0oJfoFR8ab",
    "outputId": "6aa1c7f3-6b2f-4103-b7d0-8ab44fcad300"
   },
   "outputs": [],
   "source": [
    "# regs.merge(students,how='left',on='student_id')"
   ]
  },
  {
   "cell_type": "code",
   "execution_count": 46,
   "metadata": {
    "colab": {
     "base_uri": "https://localhost:8080/",
     "height": 363
    },
    "id": "6VGmV4sIacyd",
    "outputId": "feb54824-0ff6-46ca-8e2e-a8178fb5a203"
   },
   "outputs": [],
   "source": [
    "# outer join\n",
    "# students.merge(regs,how='outer',on='student_id').tail(10)"
   ]
  },
  {
   "cell_type": "markdown",
   "metadata": {},
   "source": [
    "## Practice Questions"
   ]
  },
  {
   "cell_type": "code",
   "execution_count": 169,
   "metadata": {
    "colab": {
     "base_uri": "https://localhost:8080/"
    },
    "id": "dXDqJUq8b4QU",
    "outputId": "beb02068-1094-4604-8918-82a56eef635a"
   },
   "outputs": [
    {
     "data": {
      "text/plain": [
       "154247"
      ]
     },
     "execution_count": 169,
     "metadata": {},
     "output_type": "execute_result"
    }
   ],
   "source": [
    "# 1. find total revenue generated\n",
    "pd.concat((nov,dec),ignore_index=True).merge(courses,on=\"course_id\",how=\"inner\")[\"price\"].sum()"
   ]
  },
  {
   "cell_type": "code",
   "execution_count": 95,
   "metadata": {
    "colab": {
     "base_uri": "https://localhost:8080/"
    },
    "id": "t15YgU7ab9sU",
    "outputId": "4d98232f-7309-4a13-d85b-517846a2d795"
   },
   "outputs": [
    {
     "name": "stdout",
     "output_type": "stream",
     "text": [
      "67070 91173\n"
     ]
    }
   ],
   "source": [
    "# 2. find month by month revenue\n",
    "dec_r = dec.merge(courses, on=\"course_id\",how=\"outer\")[\"price\"].sum()\n",
    "nov_r = nov.merge(courses, on=\"course_id\",how=\"outer\")[\"price\"].sum()\n",
    "print(dec_r,nov_r)"
   ]
  },
  {
   "cell_type": "code",
   "execution_count": 111,
   "metadata": {
    "colab": {
     "base_uri": "https://localhost:8080/",
     "height": 1000
    },
    "id": "KMNOZ3Q0TwWG",
    "outputId": "69f5b42f-014d-4bd9-9430-f2a0476b37ff"
   },
   "outputs": [],
   "source": [
    "# 3. Print the registration table\n",
    "# cols -> name -> course -> price\n",
    "data = pd.concat((dec,nov),ignore_index=True).merge(courses,on=\"course_id\").merge(students,on=\"student_id\")\n",
    "reg = data.loc[:,[\"name\",\"course_name\",\"price\"]]"
   ]
  },
  {
   "cell_type": "code",
   "execution_count": 121,
   "metadata": {
    "colab": {
     "base_uri": "https://localhost:8080/",
     "height": 374
    },
    "id": "bpmd67TscCco",
    "outputId": "591a973d-6055-497f-ee43-2082a713eac4"
   },
   "outputs": [
    {
     "data": {
      "text/plain": [
       "<Axes: xlabel='course_name'>"
      ]
     },
     "execution_count": 121,
     "metadata": {},
     "output_type": "execute_result"
    },
    {
     "data": {
      "image/png": "[encoded data removed]",
      "text/plain": [
       "<Figure size 640x480 with 1 Axes>"
      ]
     },
     "metadata": {},
     "output_type": "display_data"
    }
   ],
   "source": [
    "# 4. Plot bar chart for revenue/course\n",
    "reg.groupby(\"course_name\")[\"price\"].sum().sort_values(ascending = False).plot(kind='bar')"
   ]
  },
  {
   "cell_type": "code",
   "execution_count": 186,
   "metadata": {
    "colab": {
     "base_uri": "https://localhost:8080/"
    },
    "id": "lyfAkCIDbK84",
    "outputId": "99258202-b8c2-4a52-8de3-aa168280b631"
   },
   "outputs": [
    {
     "data": {
      "text/html": [
       "<div>\n",
       "<style scoped>\n",
       "    .dataframe tbody tr th:only-of-type {\n",
       "        vertical-align: middle;\n",
       "    }\n",
       "\n",
       "    .dataframe tbody tr th {\n",
       "        vertical-align: top;\n",
       "    }\n",
       "\n",
       "    .dataframe thead th {\n",
       "        text-align: right;\n",
       "    }\n",
       "</style>\n",
       "<table border=\"1\" class=\"dataframe\">\n",
       "  <thead>\n",
       "    <tr style=\"text-align: right;\">\n",
       "      <th></th>\n",
       "      <th>student_id</th>\n",
       "      <th>name</th>\n",
       "      <th>partner</th>\n",
       "    </tr>\n",
       "  </thead>\n",
       "  <tbody>\n",
       "    <tr>\n",
       "      <th>0</th>\n",
       "      <td>1</td>\n",
       "      <td>Kailash Harjo</td>\n",
       "      <td>23</td>\n",
       "    </tr>\n",
       "    <tr>\n",
       "      <th>2</th>\n",
       "      <td>3</td>\n",
       "      <td>Parveen Bhalla</td>\n",
       "      <td>3</td>\n",
       "    </tr>\n",
       "    <tr>\n",
       "      <th>6</th>\n",
       "      <td>7</td>\n",
       "      <td>Tarun Thaker</td>\n",
       "      <td>9</td>\n",
       "    </tr>\n",
       "    <tr>\n",
       "      <th>10</th>\n",
       "      <td>11</td>\n",
       "      <td>David Mukhopadhyay</td>\n",
       "      <td>20</td>\n",
       "    </tr>\n",
       "    <tr>\n",
       "      <th>15</th>\n",
       "      <td>16</td>\n",
       "      <td>Elias Dodiya</td>\n",
       "      <td>25</td>\n",
       "    </tr>\n",
       "    <tr>\n",
       "      <th>16</th>\n",
       "      <td>17</td>\n",
       "      <td>Yasmin Palan</td>\n",
       "      <td>7</td>\n",
       "    </tr>\n",
       "    <tr>\n",
       "      <th>17</th>\n",
       "      <td>18</td>\n",
       "      <td>Fardeen Mahabir</td>\n",
       "      <td>13</td>\n",
       "    </tr>\n",
       "    <tr>\n",
       "      <th>21</th>\n",
       "      <td>22</td>\n",
       "      <td>Yash Sethi</td>\n",
       "      <td>21</td>\n",
       "    </tr>\n",
       "    <tr>\n",
       "      <th>22</th>\n",
       "      <td>23</td>\n",
       "      <td>Chhavi Lachman</td>\n",
       "      <td>18</td>\n",
       "    </tr>\n",
       "  </tbody>\n",
       "</table>\n",
       "</div>"
      ],
      "text/plain": [
       "    student_id                name  partner\n",
       "0            1       Kailash Harjo       23\n",
       "2            3      Parveen Bhalla        3\n",
       "6            7        Tarun Thaker        9\n",
       "10          11  David Mukhopadhyay       20\n",
       "15          16        Elias Dodiya       25\n",
       "16          17        Yasmin Palan        7\n",
       "17          18     Fardeen Mahabir       13\n",
       "21          22          Yash Sethi       21\n",
       "22          23      Chhavi Lachman       18"
      ]
     },
     "execution_count": 186,
     "metadata": {},
     "output_type": "execute_result"
    }
   ],
   "source": [
    "# 5. find students who enrolled in both the months\n",
    "common_students = np.intersect1d(dec['student_id'],nov['student_id'])\n",
    "students[students['student_id'].isin(common_students)]"
   ]
  },
  {
   "cell_type": "code",
   "execution_count": 157,
   "metadata": {
    "colab": {
     "base_uri": "https://localhost:8080/",
     "height": 112
    },
    "id": "MoijwjVMbPJR",
    "outputId": "00650adf-31c8-4f1c-c138-c213700f5259"
   },
   "outputs": [
    {
     "data": {
      "text/plain": [
       "course_name\n",
       "C++                 0\n",
       "Numpy               0\n",
       "data analysis       5\n",
       "machine learning    4\n",
       "ms sxcel            5\n",
       "pandas              4\n",
       "plotly              5\n",
       "power bi            6\n",
       "pyspark             6\n",
       "python              9\n",
       "sql                 2\n",
       "tableau             7\n",
       "Name: student_id, dtype: int64"
      ]
     },
     "execution_count": 157,
     "metadata": {},
     "output_type": "execute_result"
    }
   ],
   "source": [
    "# 6. find course that got no enrollment\n",
    "pd.concat((dec,nov),ignore_index=True).merge(courses,on= 'course_id',how=\"outer\").groupby(\"course_name\")[].count()"
   ]
  },
  {
   "cell_type": "code",
   "execution_count": 216,
   "metadata": {},
   "outputs": [
    {
     "data": {
      "text/html": [
       "<div>\n",
       "<style scoped>\n",
       "    .dataframe tbody tr th:only-of-type {\n",
       "        vertical-align: middle;\n",
       "    }\n",
       "\n",
       "    .dataframe tbody tr th {\n",
       "        vertical-align: top;\n",
       "    }\n",
       "\n",
       "    .dataframe thead th {\n",
       "        text-align: right;\n",
       "    }\n",
       "</style>\n",
       "<table border=\"1\" class=\"dataframe\">\n",
       "  <thead>\n",
       "    <tr style=\"text-align: right;\">\n",
       "      <th></th>\n",
       "      <th>course_id</th>\n",
       "      <th>course_name</th>\n",
       "      <th>price</th>\n",
       "    </tr>\n",
       "  </thead>\n",
       "  <tbody>\n",
       "    <tr>\n",
       "      <th>10</th>\n",
       "      <td>11</td>\n",
       "      <td>Numpy</td>\n",
       "      <td>699</td>\n",
       "    </tr>\n",
       "    <tr>\n",
       "      <th>11</th>\n",
       "      <td>12</td>\n",
       "      <td>C++</td>\n",
       "      <td>1299</td>\n",
       "    </tr>\n",
       "  </tbody>\n",
       "</table>\n",
       "</div>"
      ],
      "text/plain": [
       "    course_id course_name  price\n",
       "10         11       Numpy    699\n",
       "11         12         C++   1299"
      ]
     },
     "execution_count": 216,
     "metadata": {},
     "output_type": "execute_result"
    }
   ],
   "source": [
    "# 2nd method \n",
    "no_enrol = np.setdiff1d(courses['course_id'],pd.concat((nov,dec))['course_id'])\n",
    "courses[courses['course_id'].isin(no_enrol)]"
   ]
  },
  {
   "cell_type": "code",
   "execution_count": 228,
   "metadata": {
    "colab": {
     "base_uri": "https://localhost:8080/"
    },
    "id": "S_otfgAQbTR1",
    "outputId": "38f3fabd-4ae0-415d-f041-9b8c0e18ab76"
   },
   "outputs": [],
   "source": [
    "# 7. find students who did not enroll into any courses\n",
    "reg = pd.concat((dec,nov))\n",
    "# reg.merge(courses,on=\"course_id\",how=\"outer\").merge(students,on=\"student_id\",how=\"outer\").isnull()"
   ]
  },
  {
   "cell_type": "code",
   "execution_count": 222,
   "metadata": {},
   "outputs": [
    {
     "data": {
      "text/html": [
       "<div>\n",
       "<style scoped>\n",
       "    .dataframe tbody tr th:only-of-type {\n",
       "        vertical-align: middle;\n",
       "    }\n",
       "\n",
       "    .dataframe tbody tr th {\n",
       "        vertical-align: top;\n",
       "    }\n",
       "\n",
       "    .dataframe thead th {\n",
       "        text-align: right;\n",
       "    }\n",
       "</style>\n",
       "<table border=\"1\" class=\"dataframe\">\n",
       "  <thead>\n",
       "    <tr style=\"text-align: right;\">\n",
       "      <th></th>\n",
       "      <th>student_id</th>\n",
       "      <th>name</th>\n",
       "      <th>partner</th>\n",
       "    </tr>\n",
       "  </thead>\n",
       "  <tbody>\n",
       "    <tr>\n",
       "      <th>3</th>\n",
       "      <td>4</td>\n",
       "      <td>Marlo Dugal</td>\n",
       "      <td>14</td>\n",
       "    </tr>\n",
       "    <tr>\n",
       "      <th>4</th>\n",
       "      <td>5</td>\n",
       "      <td>Kusum Bahri</td>\n",
       "      <td>6</td>\n",
       "    </tr>\n",
       "    <tr>\n",
       "      <th>5</th>\n",
       "      <td>6</td>\n",
       "      <td>Lakshmi Contractor</td>\n",
       "      <td>10</td>\n",
       "    </tr>\n",
       "    <tr>\n",
       "      <th>7</th>\n",
       "      <td>8</td>\n",
       "      <td>Radheshyam Dey</td>\n",
       "      <td>5</td>\n",
       "    </tr>\n",
       "    <tr>\n",
       "      <th>8</th>\n",
       "      <td>9</td>\n",
       "      <td>Nitika Chatterjee</td>\n",
       "      <td>4</td>\n",
       "    </tr>\n",
       "    <tr>\n",
       "      <th>9</th>\n",
       "      <td>10</td>\n",
       "      <td>Aayushman Sant</td>\n",
       "      <td>8</td>\n",
       "    </tr>\n",
       "    <tr>\n",
       "      <th>19</th>\n",
       "      <td>20</td>\n",
       "      <td>Hanuman Hegde</td>\n",
       "      <td>11</td>\n",
       "    </tr>\n",
       "  </tbody>\n",
       "</table>\n",
       "</div>"
      ],
      "text/plain": [
       "    student_id                name  partner\n",
       "3            4         Marlo Dugal       14\n",
       "4            5         Kusum Bahri        6\n",
       "5            6  Lakshmi Contractor       10\n",
       "7            8      Radheshyam Dey        5\n",
       "8            9   Nitika Chatterjee        4\n",
       "9           10      Aayushman Sant        8\n",
       "19          20       Hanuman Hegde       11"
      ]
     },
     "execution_count": 222,
     "metadata": {},
     "output_type": "execute_result"
    }
   ],
   "source": [
    "student_no = np.setdiff1d(students['student_id'],reg[\"student_id\"])\n",
    "students[students['student_id'].isin(student_no)]"
   ]
  },
  {
   "cell_type": "code",
   "execution_count": 114,
   "metadata": {
    "colab": {
     "base_uri": "https://localhost:8080/",
     "height": 927
    },
    "id": "CtFWrIg-cOiZ",
    "outputId": "49cd750d-cb0d-430d-9b81-3b208dea7295"
   },
   "outputs": [
    {
     "data": {
      "text/html": [
       "<div>\n",
       "<style scoped>\n",
       "    .dataframe tbody tr th:only-of-type {\n",
       "        vertical-align: middle;\n",
       "    }\n",
       "\n",
       "    .dataframe tbody tr th {\n",
       "        vertical-align: top;\n",
       "    }\n",
       "\n",
       "    .dataframe thead th {\n",
       "        text-align: right;\n",
       "    }\n",
       "</style>\n",
       "<table border=\"1\" class=\"dataframe\">\n",
       "  <thead>\n",
       "    <tr style=\"text-align: right;\">\n",
       "      <th></th>\n",
       "      <th>name_x</th>\n",
       "      <th>name_y</th>\n",
       "    </tr>\n",
       "  </thead>\n",
       "  <tbody>\n",
       "    <tr>\n",
       "      <th>0</th>\n",
       "      <td>Kailash Harjo</td>\n",
       "      <td>Chhavi Lachman</td>\n",
       "    </tr>\n",
       "    <tr>\n",
       "      <th>1</th>\n",
       "      <td>Esha Butala</td>\n",
       "      <td>Kailash Harjo</td>\n",
       "    </tr>\n",
       "    <tr>\n",
       "      <th>2</th>\n",
       "      <td>Parveen Bhalla</td>\n",
       "      <td>Parveen Bhalla</td>\n",
       "    </tr>\n",
       "    <tr>\n",
       "      <th>3</th>\n",
       "      <td>Marlo Dugal</td>\n",
       "      <td>Pranab Natarajan</td>\n",
       "    </tr>\n",
       "    <tr>\n",
       "      <th>4</th>\n",
       "      <td>Kusum Bahri</td>\n",
       "      <td>Lakshmi Contractor</td>\n",
       "    </tr>\n",
       "    <tr>\n",
       "      <th>5</th>\n",
       "      <td>Lakshmi Contractor</td>\n",
       "      <td>Aayushman Sant</td>\n",
       "    </tr>\n",
       "    <tr>\n",
       "      <th>6</th>\n",
       "      <td>Tarun Thaker</td>\n",
       "      <td>Nitika Chatterjee</td>\n",
       "    </tr>\n",
       "    <tr>\n",
       "      <th>7</th>\n",
       "      <td>Radheshyam Dey</td>\n",
       "      <td>Kusum Bahri</td>\n",
       "    </tr>\n",
       "    <tr>\n",
       "      <th>8</th>\n",
       "      <td>Nitika Chatterjee</td>\n",
       "      <td>Marlo Dugal</td>\n",
       "    </tr>\n",
       "    <tr>\n",
       "      <th>9</th>\n",
       "      <td>Aayushman Sant</td>\n",
       "      <td>Radheshyam Dey</td>\n",
       "    </tr>\n",
       "    <tr>\n",
       "      <th>10</th>\n",
       "      <td>David Mukhopadhyay</td>\n",
       "      <td>Hanuman Hegde</td>\n",
       "    </tr>\n",
       "    <tr>\n",
       "      <th>11</th>\n",
       "      <td>Radha Dutt</td>\n",
       "      <td>Qabeel Raman</td>\n",
       "    </tr>\n",
       "    <tr>\n",
       "      <th>12</th>\n",
       "      <td>Munni Varghese</td>\n",
       "      <td>Radhika Suri</td>\n",
       "    </tr>\n",
       "    <tr>\n",
       "      <th>13</th>\n",
       "      <td>Pranab Natarajan</td>\n",
       "      <td>Yash Sethi</td>\n",
       "    </tr>\n",
       "    <tr>\n",
       "      <th>14</th>\n",
       "      <td>Preet Sha</td>\n",
       "      <td>Elias Dodiya</td>\n",
       "    </tr>\n",
       "    <tr>\n",
       "      <th>15</th>\n",
       "      <td>Elias Dodiya</td>\n",
       "      <td>Shashank D’Alia</td>\n",
       "    </tr>\n",
       "    <tr>\n",
       "      <th>16</th>\n",
       "      <td>Yasmin Palan</td>\n",
       "      <td>Tarun Thaker</td>\n",
       "    </tr>\n",
       "    <tr>\n",
       "      <th>17</th>\n",
       "      <td>Fardeen Mahabir</td>\n",
       "      <td>Munni Varghese</td>\n",
       "    </tr>\n",
       "    <tr>\n",
       "      <th>18</th>\n",
       "      <td>Qabeel Raman</td>\n",
       "      <td>Radha Dutt</td>\n",
       "    </tr>\n",
       "    <tr>\n",
       "      <th>19</th>\n",
       "      <td>Hanuman Hegde</td>\n",
       "      <td>David Mukhopadhyay</td>\n",
       "    </tr>\n",
       "    <tr>\n",
       "      <th>20</th>\n",
       "      <td>Seema Kota</td>\n",
       "      <td>Preet Sha</td>\n",
       "    </tr>\n",
       "    <tr>\n",
       "      <th>21</th>\n",
       "      <td>Yash Sethi</td>\n",
       "      <td>Seema Kota</td>\n",
       "    </tr>\n",
       "    <tr>\n",
       "      <th>22</th>\n",
       "      <td>Chhavi Lachman</td>\n",
       "      <td>Fardeen Mahabir</td>\n",
       "    </tr>\n",
       "    <tr>\n",
       "      <th>23</th>\n",
       "      <td>Radhika Suri</td>\n",
       "      <td>Yasmin Palan</td>\n",
       "    </tr>\n",
       "    <tr>\n",
       "      <th>24</th>\n",
       "      <td>Shashank D’Alia</td>\n",
       "      <td>Esha Butala</td>\n",
       "    </tr>\n",
       "  </tbody>\n",
       "</table>\n",
       "</div>"
      ],
      "text/plain": [
       "                name_x              name_y\n",
       "0        Kailash Harjo      Chhavi Lachman\n",
       "1          Esha Butala       Kailash Harjo\n",
       "2       Parveen Bhalla      Parveen Bhalla\n",
       "3          Marlo Dugal    Pranab Natarajan\n",
       "4          Kusum Bahri  Lakshmi Contractor\n",
       "5   Lakshmi Contractor      Aayushman Sant\n",
       "6         Tarun Thaker   Nitika Chatterjee\n",
       "7       Radheshyam Dey         Kusum Bahri\n",
       "8    Nitika Chatterjee         Marlo Dugal\n",
       "9       Aayushman Sant      Radheshyam Dey\n",
       "10  David Mukhopadhyay       Hanuman Hegde\n",
       "11          Radha Dutt        Qabeel Raman\n",
       "12      Munni Varghese        Radhika Suri\n",
       "13    Pranab Natarajan          Yash Sethi\n",
       "14           Preet Sha        Elias Dodiya\n",
       "15        Elias Dodiya     Shashank D’Alia\n",
       "16        Yasmin Palan        Tarun Thaker\n",
       "17     Fardeen Mahabir      Munni Varghese\n",
       "18        Qabeel Raman          Radha Dutt\n",
       "19       Hanuman Hegde  David Mukhopadhyay\n",
       "20          Seema Kota           Preet Sha\n",
       "21          Yash Sethi          Seema Kota\n",
       "22      Chhavi Lachman     Fardeen Mahabir\n",
       "23        Radhika Suri        Yasmin Palan\n",
       "24     Shashank D’Alia         Esha Butala"
      ]
     },
     "execution_count": 114,
     "metadata": {},
     "output_type": "execute_result"
    }
   ],
   "source": [
    "# 8. Print student name -> partner name for all enrolled students\n",
    "# students[students['partner']-1]\n",
    "\n",
    "students.merge(students,left_on=\"partner\",right_on=\"student_id\")[['name_x','name_y']]"
   ]
  },
  {
   "cell_type": "code",
   "execution_count": 116,
   "metadata": {
    "colab": {
     "base_uri": "https://localhost:8080/"
    },
    "id": "O-JS7P55fypl",
    "outputId": "99cd616f-7bf0-4fd1-9821-3adb30ad45fd"
   },
   "outputs": [
    {
     "data": {
      "text/plain": [
       "name            student_id\n",
       "Chhavi Lachman  23            6\n",
       "Tarun Thaker    7             5\n",
       "Radha Dutt      12            4\n",
       "dtype: int64"
      ]
     },
     "execution_count": 116,
     "metadata": {},
     "output_type": "execute_result"
    }
   ],
   "source": [
    "# 9. find top 3 students who did most number enrollments\n",
    "reg = pd.concat((dec,nov))\n",
    "student_course = reg.merge(students, on=\"student_id\")\n",
    "student_course.groupby([\"name\",\"student_id\"]).size().sort_values(ascending = False).head(3)"
   ]
  },
  {
   "cell_type": "code",
   "execution_count": 120,
   "metadata": {
    "colab": {
     "base_uri": "https://localhost:8080/"
    },
    "id": "sKF8FTKYf54W",
    "outputId": "58ddbe66-03f0-441b-cecf-0e6c691ebc49"
   },
   "outputs": [
    {
     "data": {
      "text/plain": [
       "name              student_id\n",
       "Chhavi Lachman    23            22594\n",
       "Pranab Natarajan  14            15096\n",
       "Qabeel Raman      19            13498\n",
       "Name: price, dtype: int64"
      ]
     },
     "execution_count": 120,
     "metadata": {},
     "output_type": "execute_result"
    }
   ],
   "source": [
    "# 10. find top 3 students who spent most amount of money on courses\n",
    "student_course.merge(courses,on=\"course_id\").groupby([\"name\",\"student_id\"])[\"price\"].sum().sort_values(ascending = False).head(3)"
   ]
  },
  {
   "cell_type": "code",
   "execution_count": 40,
   "metadata": {
    "colab": {
     "base_uri": "https://localhost:8080/",
     "height": 1000
    },
    "id": "GIrMQGYtkTDR",
    "outputId": "f76b2518-9226-4741-ea3d-dbe715f2b0a3"
   },
   "outputs": [],
   "source": [
    "# Alternate syntax for merge\n",
    "# students.merge(regs)"
   ]
  },
  {
   "cell_type": "code",
   "execution_count": 198,
   "metadata": {
    "id": "Npm6witrwRma"
   },
   "outputs": [],
   "source": [
    "# IPL Problems\n",
    "\n",
    "# find top 3 studiums with highest sixes/match ratio"
   ]
  },
  {
   "cell_type": "code",
   "execution_count": 42,
   "metadata": {
    "id": "XVIRt7zhgJNu"
   },
   "outputs": [],
   "source": [
    "# stadium -> sixes"
   ]
  },
  {
   "cell_type": "code",
   "execution_count": 130,
   "metadata": {},
   "outputs": [],
   "source": [
    "ipl = matches.merge(delivery, left_on=\"id\",right_on=\"match_id\")"
   ]
  },
  {
   "cell_type": "code",
   "execution_count": 186,
   "metadata": {},
   "outputs": [],
   "source": [
    "six_per_std = ipl[ipl['batsman_runs']==6].groupby(\"venue\")[\"venue\"].count().reset_index(name=\"six_count\")"
   ]
  },
  {
   "cell_type": "code",
   "execution_count": 182,
   "metadata": {},
   "outputs": [],
   "source": [
    "match_count = matches.groupby(\"venue\")[\"venue\"].count().reset_index(name=\"match_count\")"
   ]
  },
  {
   "cell_type": "code",
   "execution_count": 192,
   "metadata": {},
   "outputs": [],
   "source": [
    "SixPerMatch = match_count.merge(six_per_std,on=\"venue\")\n",
    "SixPerMatch[\"sixes/match ratio\"] = SixPerMatch['six_count']/SixPerMatch['match_count']"
   ]
  },
  {
   "cell_type": "code",
   "execution_count": 196,
   "metadata": {},
   "outputs": [
    {
     "data": {
      "text/html": [
       "<div>\n",
       "<style scoped>\n",
       "    .dataframe tbody tr th:only-of-type {\n",
       "        vertical-align: middle;\n",
       "    }\n",
       "\n",
       "    .dataframe tbody tr th {\n",
       "        vertical-align: top;\n",
       "    }\n",
       "\n",
       "    .dataframe thead th {\n",
       "        text-align: right;\n",
       "    }\n",
       "</style>\n",
       "<table border=\"1\" class=\"dataframe\">\n",
       "  <thead>\n",
       "    <tr style=\"text-align: right;\">\n",
       "      <th></th>\n",
       "      <th>venue</th>\n",
       "      <th>match_count</th>\n",
       "      <th>six_count</th>\n",
       "      <th>sixes/match ratio</th>\n",
       "    </tr>\n",
       "  </thead>\n",
       "  <tbody>\n",
       "    <tr>\n",
       "      <th>0</th>\n",
       "      <td>Barabati Stadium</td>\n",
       "      <td>7</td>\n",
       "      <td>68</td>\n",
       "      <td>9.714286</td>\n",
       "    </tr>\n",
       "    <tr>\n",
       "      <th>1</th>\n",
       "      <td>Brabourne Stadium</td>\n",
       "      <td>11</td>\n",
       "      <td>114</td>\n",
       "      <td>10.363636</td>\n",
       "    </tr>\n",
       "    <tr>\n",
       "      <th>2</th>\n",
       "      <td>Buffalo Park</td>\n",
       "      <td>3</td>\n",
       "      <td>27</td>\n",
       "      <td>9.000000</td>\n",
       "    </tr>\n",
       "    <tr>\n",
       "      <th>3</th>\n",
       "      <td>De Beers Diamond Oval</td>\n",
       "      <td>3</td>\n",
       "      <td>34</td>\n",
       "      <td>11.333333</td>\n",
       "    </tr>\n",
       "    <tr>\n",
       "      <th>4</th>\n",
       "      <td>Dr DY Patil Sports Academy</td>\n",
       "      <td>17</td>\n",
       "      <td>173</td>\n",
       "      <td>10.176471</td>\n",
       "    </tr>\n",
       "    <tr>\n",
       "      <th>5</th>\n",
       "      <td>Dr. Y.S. Rajasekhara Reddy ACA-VDCA Cricket St...</td>\n",
       "      <td>11</td>\n",
       "      <td>129</td>\n",
       "      <td>11.727273</td>\n",
       "    </tr>\n",
       "    <tr>\n",
       "      <th>6</th>\n",
       "      <td>Dubai International Cricket Stadium</td>\n",
       "      <td>7</td>\n",
       "      <td>58</td>\n",
       "      <td>8.285714</td>\n",
       "    </tr>\n",
       "    <tr>\n",
       "      <th>7</th>\n",
       "      <td>Eden Gardens</td>\n",
       "      <td>61</td>\n",
       "      <td>594</td>\n",
       "      <td>9.737705</td>\n",
       "    </tr>\n",
       "    <tr>\n",
       "      <th>8</th>\n",
       "      <td>Feroz Shah Kotla</td>\n",
       "      <td>60</td>\n",
       "      <td>636</td>\n",
       "      <td>10.600000</td>\n",
       "    </tr>\n",
       "    <tr>\n",
       "      <th>9</th>\n",
       "      <td>Green Park</td>\n",
       "      <td>4</td>\n",
       "      <td>36</td>\n",
       "      <td>9.000000</td>\n",
       "    </tr>\n",
       "    <tr>\n",
       "      <th>10</th>\n",
       "      <td>Himachal Pradesh Cricket Association Stadium</td>\n",
       "      <td>9</td>\n",
       "      <td>108</td>\n",
       "      <td>12.000000</td>\n",
       "    </tr>\n",
       "    <tr>\n",
       "      <th>11</th>\n",
       "      <td>Holkar Cricket Stadium</td>\n",
       "      <td>5</td>\n",
       "      <td>88</td>\n",
       "      <td>17.600000</td>\n",
       "    </tr>\n",
       "    <tr>\n",
       "      <th>12</th>\n",
       "      <td>JSCA International Stadium Complex</td>\n",
       "      <td>7</td>\n",
       "      <td>76</td>\n",
       "      <td>10.857143</td>\n",
       "    </tr>\n",
       "    <tr>\n",
       "      <th>13</th>\n",
       "      <td>Kingsmead</td>\n",
       "      <td>15</td>\n",
       "      <td>130</td>\n",
       "      <td>8.666667</td>\n",
       "    </tr>\n",
       "    <tr>\n",
       "      <th>14</th>\n",
       "      <td>M Chinnaswamy Stadium</td>\n",
       "      <td>66</td>\n",
       "      <td>873</td>\n",
       "      <td>13.227273</td>\n",
       "    </tr>\n",
       "    <tr>\n",
       "      <th>15</th>\n",
       "      <td>MA Chidambaram Stadium, Chepauk</td>\n",
       "      <td>48</td>\n",
       "      <td>507</td>\n",
       "      <td>10.562500</td>\n",
       "    </tr>\n",
       "    <tr>\n",
       "      <th>16</th>\n",
       "      <td>Maharashtra Cricket Association Stadium</td>\n",
       "      <td>15</td>\n",
       "      <td>169</td>\n",
       "      <td>11.266667</td>\n",
       "    </tr>\n",
       "    <tr>\n",
       "      <th>17</th>\n",
       "      <td>Nehru Stadium</td>\n",
       "      <td>5</td>\n",
       "      <td>39</td>\n",
       "      <td>7.800000</td>\n",
       "    </tr>\n",
       "    <tr>\n",
       "      <th>18</th>\n",
       "      <td>New Wanderers Stadium</td>\n",
       "      <td>8</td>\n",
       "      <td>64</td>\n",
       "      <td>8.000000</td>\n",
       "    </tr>\n",
       "    <tr>\n",
       "      <th>19</th>\n",
       "      <td>Newlands</td>\n",
       "      <td>7</td>\n",
       "      <td>63</td>\n",
       "      <td>9.000000</td>\n",
       "    </tr>\n",
       "    <tr>\n",
       "      <th>20</th>\n",
       "      <td>OUTsurance Oval</td>\n",
       "      <td>2</td>\n",
       "      <td>8</td>\n",
       "      <td>4.000000</td>\n",
       "    </tr>\n",
       "    <tr>\n",
       "      <th>21</th>\n",
       "      <td>Punjab Cricket Association IS Bindra Stadium, ...</td>\n",
       "      <td>11</td>\n",
       "      <td>87</td>\n",
       "      <td>7.909091</td>\n",
       "    </tr>\n",
       "    <tr>\n",
       "      <th>22</th>\n",
       "      <td>Punjab Cricket Association Stadium, Mohali</td>\n",
       "      <td>35</td>\n",
       "      <td>307</td>\n",
       "      <td>8.771429</td>\n",
       "    </tr>\n",
       "    <tr>\n",
       "      <th>23</th>\n",
       "      <td>Rajiv Gandhi International Stadium, Uppal</td>\n",
       "      <td>49</td>\n",
       "      <td>492</td>\n",
       "      <td>10.040816</td>\n",
       "    </tr>\n",
       "    <tr>\n",
       "      <th>24</th>\n",
       "      <td>Sardar Patel Stadium, Motera</td>\n",
       "      <td>12</td>\n",
       "      <td>130</td>\n",
       "      <td>10.833333</td>\n",
       "    </tr>\n",
       "    <tr>\n",
       "      <th>25</th>\n",
       "      <td>Saurashtra Cricket Association Stadium</td>\n",
       "      <td>10</td>\n",
       "      <td>104</td>\n",
       "      <td>10.400000</td>\n",
       "    </tr>\n",
       "    <tr>\n",
       "      <th>26</th>\n",
       "      <td>Sawai Mansingh Stadium</td>\n",
       "      <td>33</td>\n",
       "      <td>243</td>\n",
       "      <td>7.363636</td>\n",
       "    </tr>\n",
       "    <tr>\n",
       "      <th>27</th>\n",
       "      <td>Shaheed Veer Narayan Singh International Stadium</td>\n",
       "      <td>6</td>\n",
       "      <td>44</td>\n",
       "      <td>7.333333</td>\n",
       "    </tr>\n",
       "    <tr>\n",
       "      <th>28</th>\n",
       "      <td>Sharjah Cricket Stadium</td>\n",
       "      <td>6</td>\n",
       "      <td>76</td>\n",
       "      <td>12.666667</td>\n",
       "    </tr>\n",
       "    <tr>\n",
       "      <th>29</th>\n",
       "      <td>Sheikh Zayed Stadium</td>\n",
       "      <td>7</td>\n",
       "      <td>40</td>\n",
       "      <td>5.714286</td>\n",
       "    </tr>\n",
       "    <tr>\n",
       "      <th>30</th>\n",
       "      <td>St George's Park</td>\n",
       "      <td>7</td>\n",
       "      <td>62</td>\n",
       "      <td>8.857143</td>\n",
       "    </tr>\n",
       "    <tr>\n",
       "      <th>31</th>\n",
       "      <td>Subrata Roy Sahara Stadium</td>\n",
       "      <td>17</td>\n",
       "      <td>141</td>\n",
       "      <td>8.294118</td>\n",
       "    </tr>\n",
       "    <tr>\n",
       "      <th>32</th>\n",
       "      <td>SuperSport Park</td>\n",
       "      <td>12</td>\n",
       "      <td>120</td>\n",
       "      <td>10.000000</td>\n",
       "    </tr>\n",
       "    <tr>\n",
       "      <th>33</th>\n",
       "      <td>Vidarbha Cricket Association Stadium, Jamtha</td>\n",
       "      <td>3</td>\n",
       "      <td>26</td>\n",
       "      <td>8.666667</td>\n",
       "    </tr>\n",
       "    <tr>\n",
       "      <th>34</th>\n",
       "      <td>Wankhede Stadium</td>\n",
       "      <td>57</td>\n",
       "      <td>657</td>\n",
       "      <td>11.526316</td>\n",
       "    </tr>\n",
       "  </tbody>\n",
       "</table>\n",
       "</div>"
      ],
      "text/plain": [
       "                                                venue  match_count  six_count  \\\n",
       "0                                    Barabati Stadium            7         68   \n",
       "1                                   Brabourne Stadium           11        114   \n",
       "2                                        Buffalo Park            3         27   \n",
       "3                               De Beers Diamond Oval            3         34   \n",
       "4                          Dr DY Patil Sports Academy           17        173   \n",
       "5   Dr. Y.S. Rajasekhara Reddy ACA-VDCA Cricket St...           11        129   \n",
       "6                 Dubai International Cricket Stadium            7         58   \n",
       "7                                        Eden Gardens           61        594   \n",
       "8                                    Feroz Shah Kotla           60        636   \n",
       "9                                          Green Park            4         36   \n",
       "10       Himachal Pradesh Cricket Association Stadium            9        108   \n",
       "11                             Holkar Cricket Stadium            5         88   \n",
       "12                 JSCA International Stadium Complex            7         76   \n",
       "13                                          Kingsmead           15        130   \n",
       "14                              M Chinnaswamy Stadium           66        873   \n",
       "15                    MA Chidambaram Stadium, Chepauk           48        507   \n",
       "16            Maharashtra Cricket Association Stadium           15        169   \n",
       "17                                      Nehru Stadium            5         39   \n",
       "18                              New Wanderers Stadium            8         64   \n",
       "19                                           Newlands            7         63   \n",
       "20                                    OUTsurance Oval            2          8   \n",
       "21  Punjab Cricket Association IS Bindra Stadium, ...           11         87   \n",
       "22         Punjab Cricket Association Stadium, Mohali           35        307   \n",
       "23          Rajiv Gandhi International Stadium, Uppal           49        492   \n",
       "24                       Sardar Patel Stadium, Motera           12        130   \n",
       "25             Saurashtra Cricket Association Stadium           10        104   \n",
       "26                             Sawai Mansingh Stadium           33        243   \n",
       "27   Shaheed Veer Narayan Singh International Stadium            6         44   \n",
       "28                            Sharjah Cricket Stadium            6         76   \n",
       "29                               Sheikh Zayed Stadium            7         40   \n",
       "30                                   St George's Park            7         62   \n",
       "31                         Subrata Roy Sahara Stadium           17        141   \n",
       "32                                    SuperSport Park           12        120   \n",
       "33       Vidarbha Cricket Association Stadium, Jamtha            3         26   \n",
       "34                                   Wankhede Stadium           57        657   \n",
       "\n",
       "    sixes/match ratio  \n",
       "0            9.714286  \n",
       "1           10.363636  \n",
       "2            9.000000  \n",
       "3           11.333333  \n",
       "4           10.176471  \n",
       "5           11.727273  \n",
       "6            8.285714  \n",
       "7            9.737705  \n",
       "8           10.600000  \n",
       "9            9.000000  \n",
       "10          12.000000  \n",
       "11          17.600000  \n",
       "12          10.857143  \n",
       "13           8.666667  \n",
       "14          13.227273  \n",
       "15          10.562500  \n",
       "16          11.266667  \n",
       "17           7.800000  \n",
       "18           8.000000  \n",
       "19           9.000000  \n",
       "20           4.000000  \n",
       "21           7.909091  \n",
       "22           8.771429  \n",
       "23          10.040816  \n",
       "24          10.833333  \n",
       "25          10.400000  \n",
       "26           7.363636  \n",
       "27           7.333333  \n",
       "28          12.666667  \n",
       "29           5.714286  \n",
       "30           8.857143  \n",
       "31           8.294118  \n",
       "32          10.000000  \n",
       "33           8.666667  \n",
       "34          11.526316  "
      ]
     },
     "execution_count": 196,
     "metadata": {},
     "output_type": "execute_result"
    }
   ],
   "source": [
    "SixPerMatch"
   ]
  },
  {
   "cell_type": "code",
   "execution_count": 200,
   "metadata": {},
   "outputs": [],
   "source": [
    "# find orange cap holder of all the seasons"
   ]
  },
  {
   "cell_type": "code",
   "execution_count": 237,
   "metadata": {},
   "outputs": [
    {
     "data": {
      "text/html": [
       "<div>\n",
       "<style scoped>\n",
       "    .dataframe tbody tr th:only-of-type {\n",
       "        vertical-align: middle;\n",
       "    }\n",
       "\n",
       "    .dataframe tbody tr th {\n",
       "        vertical-align: top;\n",
       "    }\n",
       "\n",
       "    .dataframe thead th {\n",
       "        text-align: right;\n",
       "    }\n",
       "</style>\n",
       "<table border=\"1\" class=\"dataframe\">\n",
       "  <thead>\n",
       "    <tr style=\"text-align: right;\">\n",
       "      <th></th>\n",
       "      <th>season</th>\n",
       "      <th>batsman</th>\n",
       "      <th>all_runs</th>\n",
       "    </tr>\n",
       "  </thead>\n",
       "  <tbody>\n",
       "    <tr>\n",
       "      <th>0</th>\n",
       "      <td>2016</td>\n",
       "      <td>V Kohli</td>\n",
       "      <td>973</td>\n",
       "    </tr>\n",
       "    <tr>\n",
       "      <th>2</th>\n",
       "      <td>2013</td>\n",
       "      <td>MEK Hussey</td>\n",
       "      <td>733</td>\n",
       "    </tr>\n",
       "    <tr>\n",
       "      <th>3</th>\n",
       "      <td>2012</td>\n",
       "      <td>CH Gayle</td>\n",
       "      <td>733</td>\n",
       "    </tr>\n",
       "    <tr>\n",
       "      <th>6</th>\n",
       "      <td>2014</td>\n",
       "      <td>RV Uthappa</td>\n",
       "      <td>660</td>\n",
       "    </tr>\n",
       "    <tr>\n",
       "      <th>7</th>\n",
       "      <td>2017</td>\n",
       "      <td>DA Warner</td>\n",
       "      <td>641</td>\n",
       "    </tr>\n",
       "    <tr>\n",
       "      <th>9</th>\n",
       "      <td>2010</td>\n",
       "      <td>SR Tendulkar</td>\n",
       "      <td>618</td>\n",
       "    </tr>\n",
       "    <tr>\n",
       "      <th>10</th>\n",
       "      <td>2008</td>\n",
       "      <td>SE Marsh</td>\n",
       "      <td>616</td>\n",
       "    </tr>\n",
       "    <tr>\n",
       "      <th>11</th>\n",
       "      <td>2011</td>\n",
       "      <td>CH Gayle</td>\n",
       "      <td>608</td>\n",
       "    </tr>\n",
       "    <tr>\n",
       "      <th>14</th>\n",
       "      <td>2009</td>\n",
       "      <td>ML Hayden</td>\n",
       "      <td>572</td>\n",
       "    </tr>\n",
       "    <tr>\n",
       "      <th>17</th>\n",
       "      <td>2015</td>\n",
       "      <td>DA Warner</td>\n",
       "      <td>562</td>\n",
       "    </tr>\n",
       "  </tbody>\n",
       "</table>\n",
       "</div>"
      ],
      "text/plain": [
       "    season       batsman  all_runs\n",
       "0     2016       V Kohli       973\n",
       "2     2013    MEK Hussey       733\n",
       "3     2012      CH Gayle       733\n",
       "6     2014    RV Uthappa       660\n",
       "7     2017     DA Warner       641\n",
       "9     2010  SR Tendulkar       618\n",
       "10    2008      SE Marsh       616\n",
       "11    2011      CH Gayle       608\n",
       "14    2009     ML Hayden       572\n",
       "17    2015     DA Warner       562"
      ]
     },
     "execution_count": 237,
     "metadata": {},
     "output_type": "execute_result"
    }
   ],
   "source": [
    "ipl.groupby([\"season\",'batsman'])[\"batsman_runs\"].sum().sort_values(ascending = False).reset_index(name=\"all_runs\").drop_duplicates(subset=[\"season\"],keep=\"first\")"
   ]
  },
  {
   "cell_type": "code",
   "execution_count": null,
   "metadata": {},
   "outputs": [],
   "source": []
  },
  {
   "cell_type": "code",
   "execution_count": null,
   "metadata": {},
   "outputs": [],
   "source": []
  }
 ],
 "metadata": {
  "colab": {
   "provenance": []
  },
  "kernelspec": {
   "display_name": "Python 3 (ipykernel)",
   "language": "python",
   "name": "python3"
  },
  "language_info": {
   "codemirror_mode": {
    "name": "ipython",
    "version": 3
   },
   "file_extension": ".py",
   "mimetype": "text/x-python",
   "name": "python",
   "nbconvert_exporter": "python",
   "pygments_lexer": "ipython3",
   "version": "3.12.4"
  }
 },
 "nbformat": 4,
 "nbformat_minor": 4
}
