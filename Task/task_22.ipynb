{
 "cells": [
  {
   "cell_type": "code",
   "execution_count": 4,
   "metadata": {
    "id": "QPuP3_a1xC74"
   },
   "outputs": [],
   "source": [
    "import pandas as pd\n",
    "import numpy as np\n",
    "import re\n",
    "\n",
    "pd.options.display.max_columns = None"
   ]
  },
  {
   "cell_type": "markdown",
   "metadata": {
    "id": "BdvJoBkDxKMT"
   },
   "source": [
    "### `Question-1:`\n",
    "\n",
    "The dataset is based on NFTs. This is quite large. So, when you will read the dataset, you have to wait. The link of the dataset: https://tinyurl.com/2pfhncqw\n",
    "\n",
    "Your task is to make a pivote table by using the columns \"verification_status\", \"contract_type\", \"rarity_score\" and \"last_sale_price\" to find out the total values."
   ]
  },
  {
   "cell_type": "code",
   "execution_count": null,
   "metadata": {
    "id": "5XXXFS5zxHEu"
   },
   "outputs": [],
   "source": [
    "# code here"
   ]
  },
  {
   "cell_type": "markdown",
   "metadata": {
    "id": "W2TiKcFJxP9i"
   },
   "source": [
    "### `Question-2:`\n",
    "\n",
    "You are given a dataset about the cars' price and miles driven of different cars throughout the different years. The link of the dataset: https://tinyurl.com/2r24n45l. Your tasks are\n",
    "- make a pivot table of the brands (the required brands are given below) from the \"Year\" 2018 to the year 2022 in which the \"Price\" is shown as average values and \"Miles\" are in median values. In this pivote table, every row represents a particular brand and each column represents either average \"Price\" of a partucular year or median values of \"Miles\" of a particular year.\n",
    "- At the end plot a kde chart for the \"Price\" and \"Miles\" by using your pivot table.\n",
    "\n",
    "There are some challenges to solve this task:\n",
    "- There is no column that is represented to the brand name of the car. You have to find out on your own.\n",
    "- Some values of \"Years\" column are misleading. You have to reset this column too that every value should tell a valid meaning."
   ]
  },
  {
   "cell_type": "code",
   "execution_count": 59,
   "metadata": {
    "id": "hno_bmvXxSFf"
   },
   "outputs": [],
   "source": [
    "# code here\n",
    "link = \"https://tinyurl.com/2r24n45l\"\n",
    "car_df = pd.read_csv(link)"
   ]
  },
  {
   "cell_type": "code",
   "execution_count": 65,
   "metadata": {},
   "outputs": [],
   "source": [
    "def fun(model):\n",
    "    return model.split(\" \")[0]\n",
    "car_df['BrandName'] = car_df['Name'].apply(fun)"
   ]
  },
  {
   "cell_type": "code",
   "execution_count": 71,
   "metadata": {},
   "outputs": [
    {
     "data": {
      "text/plain": [
       "array([    2018,     2020,     2012,     2019,    20173,     2016,\n",
       "           2017,     2015,     2014,     2010,    20194,    20165,\n",
       "           2013,    20133,     2011,  2013500,  2017124,     2021,\n",
       "           2022,   201650,    20163,    20215,    20113,    20152,\n",
       "       20141500,   202130,    20204,    20153,  2014500,  2016500,\n",
       "          20103,    20156,  2017500,   201040,  2013300,  2015200,\n",
       "        2013150,    20125,    20185,    20166,    20146,    20213,\n",
       "         202180,   201860,    20184,    20203,    20143,    20144,\n",
       "         201550,   202050,   202150,    20199,    20219,    20205,\n",
       "         201730,   202060,  2018500,  2015500,  2010370,   201750,\n",
       "          20174,   201360,   200970,    20193,    20145,    20164,\n",
       "          20123,    20176,  2016200,   201560,  2015900,    20161,\n",
       "        2016900,    20154,    20182,    20157,  2019500,    20183,\n",
       "          20122,    20129,    20114,  2020150, 20211500,    20135,\n",
       "          20196,  2014200, 20201500,    20195,    20134,    20169,\n",
       "         201850,  2021300,    20095,  2016300,  2013200,    20105,\n",
       "         201460,     2009,    20136,    20151,  2020300,    20115,\n",
       "          20214,   201660,    20209,    20175,   201980,    20172,\n",
       "        2012300,  2018300,   201450, 20151500,   201540,   201960,\n",
       "          20202,   202286,    20186,   201760,    20155,    20112,\n",
       "          20212,    20225,    20232,    20206,    20111, 20171500,\n",
       "         202140,  2019124,   202260,    20181,   201940,    20222,\n",
       "        2018150,  2013911,  2021150,    20224, 20161500,    20223,\n",
       "       20191500,  2016370,   201950,   202230, 20222500, 20223500,\n",
       "       20181500,  2014370, 20221500,   201570,   201890,   201880,\n",
       "          20162,  2017718,    20124,  2017150,  2017370,   201790,\n",
       "         202090,  2022150,   201990,    20226,    20201,   201930,\n",
       "          20216, 20152500,    20147,   201970,   201886,  2016150,\n",
       "        2018718,    20191,    20189,  2015300,   201690,   202270,\n",
       "         202160,    20187,     2023,    20149,   201270,    20211,\n",
       "        2019150,   202030,    20192,   201780,    20171,  2018124,\n",
       "        2019300,    20128,    20093,   201830,    20096,   201260,\n",
       "        2012200,  2012500,  2017200,    20127,    20101,    20126,\n",
       "         201770,  2017300,    20094,  2011200, 20131500,  2014300,\n",
       "          20141,    20131,    20104,    20139,    20132,  2011370,\n",
       "          20142], dtype=int64)"
      ]
     },
     "execution_count": 71,
     "metadata": {},
     "output_type": "execute_result"
    }
   ],
   "source": [
    "car_df.Year.unique()"
   ]
  },
  {
   "cell_type": "code",
   "execution_count": 14,
   "metadata": {},
   "outputs": [
    {
     "data": {
      "text/html": [
       "<div>\n",
       "<style scoped>\n",
       "    .dataframe tbody tr th:only-of-type {\n",
       "        vertical-align: middle;\n",
       "    }\n",
       "\n",
       "    .dataframe tbody tr th {\n",
       "        vertical-align: top;\n",
       "    }\n",
       "\n",
       "    .dataframe thead tr th {\n",
       "        text-align: left;\n",
       "    }\n",
       "\n",
       "    .dataframe thead tr:last-of-type th {\n",
       "        text-align: right;\n",
       "    }\n",
       "</style>\n",
       "<table border=\"1\" class=\"dataframe\">\n",
       "  <thead>\n",
       "    <tr>\n",
       "      <th></th>\n",
       "      <th colspan=\"5\" halign=\"left\">Miles</th>\n",
       "      <th colspan=\"5\" halign=\"left\">Price</th>\n",
       "    </tr>\n",
       "    <tr>\n",
       "      <th>Year</th>\n",
       "      <th>2018</th>\n",
       "      <th>2019</th>\n",
       "      <th>2020</th>\n",
       "      <th>2021</th>\n",
       "      <th>2022</th>\n",
       "      <th>2018</th>\n",
       "      <th>2019</th>\n",
       "      <th>2020</th>\n",
       "      <th>2021</th>\n",
       "      <th>2022</th>\n",
       "    </tr>\n",
       "    <tr>\n",
       "      <th>Name</th>\n",
       "      <th></th>\n",
       "      <th></th>\n",
       "      <th></th>\n",
       "      <th></th>\n",
       "      <th></th>\n",
       "      <th></th>\n",
       "      <th></th>\n",
       "      <th></th>\n",
       "      <th></th>\n",
       "      <th></th>\n",
       "    </tr>\n",
       "  </thead>\n",
       "  <tbody>\n",
       "    <tr>\n",
       "      <th>Acura ILX</th>\n",
       "      <td>32516.0</td>\n",
       "      <td>NaN</td>\n",
       "      <td>NaN</td>\n",
       "      <td>NaN</td>\n",
       "      <td>NaN</td>\n",
       "      <td>23990.000000</td>\n",
       "      <td>NaN</td>\n",
       "      <td>NaN</td>\n",
       "      <td>NaN</td>\n",
       "      <td>NaN</td>\n",
       "    </tr>\n",
       "    <tr>\n",
       "      <th>Acura MDX</th>\n",
       "      <td>86981.0</td>\n",
       "      <td>50959.0</td>\n",
       "      <td>NaN</td>\n",
       "      <td>NaN</td>\n",
       "      <td>NaN</td>\n",
       "      <td>27990.000000</td>\n",
       "      <td>31590.000000</td>\n",
       "      <td>NaN</td>\n",
       "      <td>NaN</td>\n",
       "      <td>NaN</td>\n",
       "    </tr>\n",
       "    <tr>\n",
       "      <th>Acura MDX Sport Hybrid</th>\n",
       "      <td>NaN</td>\n",
       "      <td>32675.0</td>\n",
       "      <td>NaN</td>\n",
       "      <td>NaN</td>\n",
       "      <td>NaN</td>\n",
       "      <td>NaN</td>\n",
       "      <td>42990.000000</td>\n",
       "      <td>NaN</td>\n",
       "      <td>NaN</td>\n",
       "      <td>NaN</td>\n",
       "    </tr>\n",
       "    <tr>\n",
       "      <th>Acura RDX</th>\n",
       "      <td>NaN</td>\n",
       "      <td>26612.0</td>\n",
       "      <td>30894.0</td>\n",
       "      <td>10922.0</td>\n",
       "      <td>NaN</td>\n",
       "      <td>NaN</td>\n",
       "      <td>34542.200000</td>\n",
       "      <td>37590.000000</td>\n",
       "      <td>43856.666667</td>\n",
       "      <td>NaN</td>\n",
       "    </tr>\n",
       "    <tr>\n",
       "      <th>Alfa Romeo Giulia</th>\n",
       "      <td>22441.0</td>\n",
       "      <td>20928.0</td>\n",
       "      <td>NaN</td>\n",
       "      <td>NaN</td>\n",
       "      <td>NaN</td>\n",
       "      <td>29990.000000</td>\n",
       "      <td>30690.000000</td>\n",
       "      <td>NaN</td>\n",
       "      <td>NaN</td>\n",
       "      <td>NaN</td>\n",
       "    </tr>\n",
       "    <tr>\n",
       "      <th>...</th>\n",
       "      <td>...</td>\n",
       "      <td>...</td>\n",
       "      <td>...</td>\n",
       "      <td>...</td>\n",
       "      <td>...</td>\n",
       "      <td>...</td>\n",
       "      <td>...</td>\n",
       "      <td>...</td>\n",
       "      <td>...</td>\n",
       "      <td>...</td>\n",
       "    </tr>\n",
       "    <tr>\n",
       "      <th>Volkswagen Passat</th>\n",
       "      <td>48021.0</td>\n",
       "      <td>47135.0</td>\n",
       "      <td>32237.0</td>\n",
       "      <td>28162.0</td>\n",
       "      <td>NaN</td>\n",
       "      <td>20554.705882</td>\n",
       "      <td>23190.000000</td>\n",
       "      <td>25590.000000</td>\n",
       "      <td>25290.000000</td>\n",
       "      <td>NaN</td>\n",
       "    </tr>\n",
       "    <tr>\n",
       "      <th>Volkswagen Tiguan</th>\n",
       "      <td>48034.0</td>\n",
       "      <td>53383.0</td>\n",
       "      <td>45395.0</td>\n",
       "      <td>44425.0</td>\n",
       "      <td>23096.0</td>\n",
       "      <td>21377.500000</td>\n",
       "      <td>24660.588235</td>\n",
       "      <td>24144.818182</td>\n",
       "      <td>26675.714286</td>\n",
       "      <td>29590.0</td>\n",
       "    </tr>\n",
       "    <tr>\n",
       "      <th>Volkswagen Tiguan Limited</th>\n",
       "      <td>48794.0</td>\n",
       "      <td>NaN</td>\n",
       "      <td>NaN</td>\n",
       "      <td>NaN</td>\n",
       "      <td>NaN</td>\n",
       "      <td>19590.000000</td>\n",
       "      <td>NaN</td>\n",
       "      <td>NaN</td>\n",
       "      <td>NaN</td>\n",
       "      <td>NaN</td>\n",
       "    </tr>\n",
       "    <tr>\n",
       "      <th>smart fortwo electric drive</th>\n",
       "      <td>20157.5</td>\n",
       "      <td>NaN</td>\n",
       "      <td>NaN</td>\n",
       "      <td>NaN</td>\n",
       "      <td>NaN</td>\n",
       "      <td>16940.000000</td>\n",
       "      <td>NaN</td>\n",
       "      <td>NaN</td>\n",
       "      <td>NaN</td>\n",
       "      <td>NaN</td>\n",
       "    </tr>\n",
       "    <tr>\n",
       "      <th>smart fortwo electric drive cabrio</th>\n",
       "      <td>14825.0</td>\n",
       "      <td>NaN</td>\n",
       "      <td>NaN</td>\n",
       "      <td>NaN</td>\n",
       "      <td>NaN</td>\n",
       "      <td>18590.000000</td>\n",
       "      <td>NaN</td>\n",
       "      <td>NaN</td>\n",
       "      <td>NaN</td>\n",
       "      <td>NaN</td>\n",
       "    </tr>\n",
       "  </tbody>\n",
       "</table>\n",
       "<p>231 rows × 10 columns</p>\n",
       "</div>"
      ],
      "text/plain": [
       "                                      Miles                             \\\n",
       "Year                                   2018     2019     2020     2021   \n",
       "Name                                                                     \n",
       "Acura ILX                           32516.0      NaN      NaN      NaN   \n",
       "Acura MDX                           86981.0  50959.0      NaN      NaN   \n",
       "Acura MDX Sport Hybrid                  NaN  32675.0      NaN      NaN   \n",
       "Acura RDX                               NaN  26612.0  30894.0  10922.0   \n",
       "Alfa Romeo Giulia                   22441.0  20928.0      NaN      NaN   \n",
       "...                                     ...      ...      ...      ...   \n",
       "Volkswagen Passat                   48021.0  47135.0  32237.0  28162.0   \n",
       "Volkswagen Tiguan                   48034.0  53383.0  45395.0  44425.0   \n",
       "Volkswagen Tiguan Limited           48794.0      NaN      NaN      NaN   \n",
       "smart fortwo electric drive         20157.5      NaN      NaN      NaN   \n",
       "smart fortwo electric drive cabrio  14825.0      NaN      NaN      NaN   \n",
       "\n",
       "                                                    Price                \\\n",
       "Year                                   2022          2018          2019   \n",
       "Name                                                                      \n",
       "Acura ILX                               NaN  23990.000000           NaN   \n",
       "Acura MDX                               NaN  27990.000000  31590.000000   \n",
       "Acura MDX Sport Hybrid                  NaN           NaN  42990.000000   \n",
       "Acura RDX                               NaN           NaN  34542.200000   \n",
       "Alfa Romeo Giulia                       NaN  29990.000000  30690.000000   \n",
       "...                                     ...           ...           ...   \n",
       "Volkswagen Passat                       NaN  20554.705882  23190.000000   \n",
       "Volkswagen Tiguan                   23096.0  21377.500000  24660.588235   \n",
       "Volkswagen Tiguan Limited               NaN  19590.000000           NaN   \n",
       "smart fortwo electric drive             NaN  16940.000000           NaN   \n",
       "smart fortwo electric drive cabrio      NaN  18590.000000           NaN   \n",
       "\n",
       "                                                                         \n",
       "Year                                        2020          2021     2022  \n",
       "Name                                                                     \n",
       "Acura ILX                                    NaN           NaN      NaN  \n",
       "Acura MDX                                    NaN           NaN      NaN  \n",
       "Acura MDX Sport Hybrid                       NaN           NaN      NaN  \n",
       "Acura RDX                           37590.000000  43856.666667      NaN  \n",
       "Alfa Romeo Giulia                            NaN           NaN      NaN  \n",
       "...                                          ...           ...      ...  \n",
       "Volkswagen Passat                   25590.000000  25290.000000      NaN  \n",
       "Volkswagen Tiguan                   24144.818182  26675.714286  29590.0  \n",
       "Volkswagen Tiguan Limited                    NaN           NaN      NaN  \n",
       "smart fortwo electric drive                  NaN           NaN      NaN  \n",
       "smart fortwo electric drive cabrio           NaN           NaN      NaN  \n",
       "\n",
       "[231 rows x 10 columns]"
      ]
     },
     "execution_count": 14,
     "metadata": {},
     "output_type": "execute_result"
    }
   ],
   "source": [
    "car_df=car_df[(car_df['Year']>=2018) & (car_df['Year']<=2022)]\n",
    "pd.pivot_table(car_df,index=['Name'],columns=['Year'],aggfunc={'Price':'mean','Miles':'median'},values=['Price','Miles'])"
   ]
  },
  {
   "cell_type": "markdown",
   "metadata": {
    "id": "DUPv5GVPxXRW"
   },
   "source": [
    "### `Question-3:`\n",
    "\n",
    "You are given a dataset of **Daily Power Generation in India** of regional wise of all Power Stations. Link of the dataset: https://tinyurl.com/2nq6kugt\n",
    "\n",
    "Task\n",
    "- In this dataset, there are many columns. Two of them are `Actual(MU)` and `Excess(+) / Shortfall (-)`. `Actual(MU)` represents the actual power generation. `Excess(+) / Shortfall (-)` tells is that generated power is excess or shortfall for that particular day of a power station. You have to find out what should be the actual power generation required for that day by the power stations that there would not be any excess or shorfall power. For the result, make a new column.\n",
    "- Find out the month of the day and store it as a new column.\n",
    "- Find out top 10 frequently appeared power stations in this dataframe.\n",
    "- Next create a pivot table of which every row represents a power station and every column represents a month in a order. Like January, February, March...\n",
    "- It is hard to get inside if you look through the only pivot table. So plot the pivot table."
   ]
  },
  {
   "cell_type": "code",
   "execution_count": null,
   "metadata": {
    "id": "hh_8bg1DxXyX"
   },
   "outputs": [],
   "source": [
    "# code here"
   ]
  },
  {
   "cell_type": "markdown",
   "metadata": {
    "id": "B97WK4fHxY9Q"
   },
   "source": [
    "###`Q-4` You are given a file `question-answer.csv`. Your task is to make a dataframe from it with two columns - `question` and `answers`.\n",
    "\n",
    "* Questions in the file start from `Q<number>`; E.g.  `Q1` denotes question no. `1`\n",
    "* Answers starts from `Ans<number>`; Eg. `Ans1` denotes answer of question no `1`\n",
    "* MAke sure you look at columns name carefully\n",
    "\n",
    "CSV File - \"https://drive.google.com/file/d/10rmV3XrVtzpDTtYZF3UtCdcU0ajBJjGY/view?usp=share_link\""
   ]
  },
  {
   "cell_type": "code",
   "execution_count": null,
   "metadata": {
    "id": "K1nTk0VZxcrE"
   },
   "outputs": [],
   "source": [
    "# code here"
   ]
  },
  {
   "cell_type": "markdown",
   "metadata": {
    "id": "zldnMnhixjA2"
   },
   "source": [
    "###`Q-5`: Print Question and answer of those questions which does not contains any question mark (`?`).\n"
   ]
  },
  {
   "cell_type": "code",
   "execution_count": null,
   "metadata": {
    "id": "r0D4gTPVxlWA"
   },
   "outputs": [],
   "source": [
    "# code here"
   ]
  },
  {
   "cell_type": "markdown",
   "metadata": {
    "id": "1-kn-7G-xv66"
   },
   "source": [
    "###`Q 6-10` LOG and EMPLOYEE\n",
    "6. Show `activity` details month wise. Show count for each `activity`\n",
    "7. Find employee who did most `activity` in January month.\n",
    "8. Employee who have worked most no of times on Weekends.\n",
    "9. Which activity is logged most on buisness days.\n",
    "10. Week Days wise activity table.\n",
    "```\n",
    "log_file = pd.read_csv(\"https://docs.google.com/spreadsheets/d/e/2PACX-1vT-OMrmmNdOTM-B5f5F1EpCutMVG230UZiLvqlsg0NIKUKR3yrqiI2r1pEX-LvSEk-3WwySPYtvbBC-/pub?gid=1937029224&single=true&output=csv\")\n",
    "employee = pd.read_csv(\"https://docs.google.com/spreadsheets/d/e/2PACX-1vQ5AuFqRjSZVBKm5zyDxquX6utubq1DJKkYDI70vjeidAnyAu70KMSYpMYzeVSNVTeUIJBpfF6jU5E6/pub?gid=798824749&single=true&output=csv\")\n",
    "\n",
    "```\n",
    "\n",
    "Note(for common field):- Employee file has `EMPLOYEE_ID` and LOG file has `emp_id`"
   ]
  },
  {
   "cell_type": "code",
   "execution_count": null,
   "metadata": {
    "id": "QJHlf8HSxzON"
   },
   "outputs": [],
   "source": [
    "# code here"
   ]
  },
  {
   "cell_type": "markdown",
   "metadata": {
    "id": "-YWS10wpx_2O"
   },
   "source": [
    "### `Q-11`:\n",
    "\n",
    "1. There are missing value in first name of employee. Fill it using email and last name field.\n",
    "\n",
    "> E.g- `email` -> JMURMAN and `last_name` -> 'Urman' -> so make it's first name as 'JM', Sort of (Email- lastname).\n",
    "\n",
    "> Email is constructed from initials of first name concate with lastname. Your Task is to fill first name initials in missing data.\n",
    "\n",
    "2. You can see email field don't have any domain name. Change this to full email addreess with domain as 'campusx.com'.\n",
    "E.g- Email field -> `JMURMAN`  result -> `JMURMAN@CAMPUSX.COM`\n",
    "\n",
    "3. Show Full Name of all the employees whose name starts with 'A' and has done any of these activity ['Incpection', 'Cleaning', 'Checking]"
   ]
  },
  {
   "cell_type": "code",
   "execution_count": null,
   "metadata": {
    "id": "IJTb_O9ryAf-"
   },
   "outputs": [],
   "source": [
    "# code here"
   ]
  }
 ],
 "metadata": {
  "colab": {
   "provenance": []
  },
  "kernelspec": {
   "display_name": "Python 3 (ipykernel)",
   "language": "python",
   "name": "python3"
  },
  "language_info": {
   "codemirror_mode": {
    "name": "ipython",
    "version": 3
   },
   "file_extension": ".py",
   "mimetype": "text/x-python",
   "name": "python",
   "nbconvert_exporter": "python",
   "pygments_lexer": "ipython3",
   "version": "3.12.4"
  }
 },
 "nbformat": 4,
 "nbformat_minor": 4
}
