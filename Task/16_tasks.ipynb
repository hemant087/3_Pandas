{
 "cells": [
  {
   "cell_type": "code",
   "execution_count": 2,
   "metadata": {
    "id": "zxrbXftDYalU"
   },
   "outputs": [],
   "source": [
    "import pandas as pd \n",
    "import numpy as np"
   ]
  },
  {
   "cell_type": "markdown",
   "metadata": {
    "id": "MetYTZJpYfdz"
   },
   "source": [
    "###`Q-1:` Write a program to create an empty series."
   ]
  },
  {
   "cell_type": "code",
   "execution_count": 1,
   "metadata": {
    "id": "KUcgT935YgC5"
   },
   "outputs": [],
   "source": [
    "# code here"
   ]
  },
  {
   "cell_type": "markdown",
   "metadata": {
    "id": "jw5ybzU6YhOo"
   },
   "source": [
    "###`Q-2:` Write a Pandas program to add, subtract, multiple and divide two Pandas Series."
   ]
  },
  {
   "cell_type": "code",
   "execution_count": 3,
   "metadata": {
    "id": "EF3GgVFjYjwG"
   },
   "outputs": [],
   "source": [
    "# code here"
   ]
  },
  {
   "cell_type": "markdown",
   "metadata": {
    "id": "TZDp25jeYlB6"
   },
   "source": [
    "###`Q-3` Write a Pandas program to compare the elements of the two Pandas Series.\n",
    "Sample Series: [2, 4, 6, 8, 10], [1, 3, 5, 7, 10]\n",
    "\n"
   ]
  },
  {
   "cell_type": "code",
   "execution_count": 5,
   "metadata": {
    "id": "gFNil8ruYp1y"
   },
   "outputs": [],
   "source": [
    "# code here"
   ]
  },
  {
   "cell_type": "markdown",
   "metadata": {
    "id": "HlOBn_N6YrZz"
   },
   "source": [
    "###`Q-5.`Write a function to change the data type of given a column or a Series. Function takes series and data type as input, returns the converted series.\n",
    "```\n",
    "series = pd.Series([1,2,'Python', 2.0, True, 100])\n",
    "change to float type data\n",
    "```\n",
    "Note: Read about pd.to_numeric()"
   ]
  },
  {
   "cell_type": "code",
   "execution_count": 11,
   "metadata": {
    "id": "_SWQJCUJYwXm"
   },
   "outputs": [
    {
     "data": {
      "text/plain": [
       "0      1.0\n",
       "1      2.0\n",
       "2      NaN\n",
       "3      2.0\n",
       "4      1.0\n",
       "5    100.0\n",
       "dtype: float64"
      ]
     },
     "execution_count": 11,
     "metadata": {},
     "output_type": "execute_result"
    }
   ],
   "source": [
    "# code here\n",
    "series = pd.Series([1,2,'Python', 2.0, True, 100])\n",
    "pd.to_numeric(series,errors='coerce')"
   ]
  },
  {
   "cell_type": "code",
   "execution_count": 26,
   "metadata": {},
   "outputs": [
    {
     "data": {
      "text/plain": [
       "[1.0, 2.0, 'Python', 2.0, True, 100.0]"
      ]
     },
     "execution_count": 26,
     "metadata": {},
     "output_type": "execute_result"
    }
   ],
   "source": [
    "\n",
    "ans = []\n",
    "for i in list(series): \n",
    "    if (str(i).isnumeric()):\n",
    "        ans.append(float(i))\n",
    "    else:\n",
    "        ans.append(i)\n",
    "ans"
   ]
  },
  {
   "cell_type": "code",
   "execution_count": 19,
   "metadata": {},
   "outputs": [],
   "source": [
    "def fun(temp):\n",
    "    ans = []\n",
    "    for i in temp: \n",
    "        if (i.isnumeric()):\n",
    "            ans.append(float(i))\n",
    "        else:\n",
    "            ans.append(i)\n",
    "    return ans"
   ]
  },
  {
   "cell_type": "code",
   "execution_count": 23,
   "metadata": {},
   "outputs": [
    {
     "ename": "AttributeError",
     "evalue": "'int' object has no attribute 'isnumeric'",
     "output_type": "error",
     "traceback": [
      "\u001b[1;31m---------------------------------------------------------------------------\u001b[0m",
      "\u001b[1;31mAttributeError\u001b[0m                            Traceback (most recent call last)",
      "Cell \u001b[1;32mIn[23], line 1\u001b[0m\n\u001b[1;32m----> 1\u001b[0m \u001b[38;5;28mprint\u001b[39m(fun(series))\n",
      "Cell \u001b[1;32mIn[19], line 4\u001b[0m, in \u001b[0;36mfun\u001b[1;34m(temp)\u001b[0m\n\u001b[0;32m      2\u001b[0m ans \u001b[38;5;241m=\u001b[39m []\n\u001b[0;32m      3\u001b[0m \u001b[38;5;28;01mfor\u001b[39;00m i \u001b[38;5;129;01min\u001b[39;00m temp: \n\u001b[1;32m----> 4\u001b[0m     \u001b[38;5;28;01mif\u001b[39;00m (i\u001b[38;5;241m.\u001b[39misnumeric()):\n\u001b[0;32m      5\u001b[0m         ans\u001b[38;5;241m.\u001b[39mappend(\u001b[38;5;28mfloat\u001b[39m(i))\n\u001b[0;32m      6\u001b[0m     \u001b[38;5;28;01melse\u001b[39;00m:\n",
      "\u001b[1;31mAttributeError\u001b[0m: 'int' object has no attribute 'isnumeric'"
     ]
    }
   ],
   "source": [
    "print(fun(series))"
   ]
  },
  {
   "cell_type": "markdown",
   "metadata": {
    "id": "PGp3OqRIY0Va"
   },
   "source": [
    "Download data - https://drive.google.com/file/d/1LRhXwbEodeWXtzPhJCX0X9Lf_BECzvqb/view?usp=share_link\n",
    "All Batsman runs series in IPL 2008 to 2022.\n",
    "\n",
    "Below questions are based on this data."
   ]
  },
  {
   "cell_type": "code",
   "execution_count": 31,
   "metadata": {},
   "outputs": [],
   "source": [
    "df = pd.read_csv(\"datasets/batsman_runs_series.csv\")"
   ]
  },
  {
   "cell_type": "markdown",
   "metadata": {
    "id": "TxFkp-L4Y23d"
   },
   "source": [
    "###`Q-6` Find top 10 most run getter from the series."
   ]
  },
  {
   "cell_type": "code",
   "execution_count": 22,
   "metadata": {
    "id": "muBgocA6Y2Bg"
   },
   "outputs": [
    {
     "data": {
      "text/html": [
       "<div>\n",
       "<style scoped>\n",
       "    .dataframe tbody tr th:only-of-type {\n",
       "        vertical-align: middle;\n",
       "    }\n",
       "\n",
       "    .dataframe tbody tr th {\n",
       "        vertical-align: top;\n",
       "    }\n",
       "\n",
       "    .dataframe thead th {\n",
       "        text-align: right;\n",
       "    }\n",
       "</style>\n",
       "<table border=\"1\" class=\"dataframe\">\n",
       "  <thead>\n",
       "    <tr style=\"text-align: right;\">\n",
       "      <th></th>\n",
       "      <th>batter</th>\n",
       "      <th>batsman_run</th>\n",
       "    </tr>\n",
       "  </thead>\n",
       "  <tbody>\n",
       "    <tr>\n",
       "      <th>569</th>\n",
       "      <td>V Kohli</td>\n",
       "      <td>6634</td>\n",
       "    </tr>\n",
       "    <tr>\n",
       "      <th>462</th>\n",
       "      <td>S Dhawan</td>\n",
       "      <td>6244</td>\n",
       "    </tr>\n",
       "    <tr>\n",
       "      <th>130</th>\n",
       "      <td>DA Warner</td>\n",
       "      <td>5883</td>\n",
       "    </tr>\n",
       "    <tr>\n",
       "      <th>430</th>\n",
       "      <td>RG Sharma</td>\n",
       "      <td>5881</td>\n",
       "    </tr>\n",
       "    <tr>\n",
       "      <th>493</th>\n",
       "      <td>SK Raina</td>\n",
       "      <td>5536</td>\n",
       "    </tr>\n",
       "    <tr>\n",
       "      <th>27</th>\n",
       "      <td>AB de Villiers</td>\n",
       "      <td>5181</td>\n",
       "    </tr>\n",
       "    <tr>\n",
       "      <th>108</th>\n",
       "      <td>CH Gayle</td>\n",
       "      <td>4997</td>\n",
       "    </tr>\n",
       "    <tr>\n",
       "      <th>339</th>\n",
       "      <td>MS Dhoni</td>\n",
       "      <td>4978</td>\n",
       "    </tr>\n",
       "    <tr>\n",
       "      <th>452</th>\n",
       "      <td>RV Uthappa</td>\n",
       "      <td>4954</td>\n",
       "    </tr>\n",
       "    <tr>\n",
       "      <th>256</th>\n",
       "      <td>KD Karthik</td>\n",
       "      <td>4377</td>\n",
       "    </tr>\n",
       "  </tbody>\n",
       "</table>\n",
       "</div>"
      ],
      "text/plain": [
       "             batter  batsman_run\n",
       "569         V Kohli         6634\n",
       "462        S Dhawan         6244\n",
       "130       DA Warner         5883\n",
       "430       RG Sharma         5881\n",
       "493        SK Raina         5536\n",
       "27   AB de Villiers         5181\n",
       "108        CH Gayle         4997\n",
       "339        MS Dhoni         4978\n",
       "452      RV Uthappa         4954\n",
       "256      KD Karthik         4377"
      ]
     },
     "execution_count": 22,
     "metadata": {},
     "output_type": "execute_result"
    }
   ],
   "source": [
    "# code here\n",
    "df.sort_values(ascending=False, by=\"batsman_run\").head(10)"
   ]
  },
  {
   "cell_type": "markdown",
   "metadata": {
    "id": "GzlCFBM_Y83g"
   },
   "source": [
    "###`Q-7` No of players having runs above 3000"
   ]
  },
  {
   "cell_type": "code",
   "execution_count": 35,
   "metadata": {
    "id": "JdNchHRWY1B-"
   },
   "outputs": [
    {
     "data": {
      "text/html": [
       "<div>\n",
       "<style scoped>\n",
       "    .dataframe tbody tr th:only-of-type {\n",
       "        vertical-align: middle;\n",
       "    }\n",
       "\n",
       "    .dataframe tbody tr th {\n",
       "        vertical-align: top;\n",
       "    }\n",
       "\n",
       "    .dataframe thead th {\n",
       "        text-align: right;\n",
       "    }\n",
       "</style>\n",
       "<table border=\"1\" class=\"dataframe\">\n",
       "  <thead>\n",
       "    <tr style=\"text-align: right;\">\n",
       "      <th></th>\n",
       "      <th>batter</th>\n",
       "      <th>batsman_run</th>\n",
       "    </tr>\n",
       "  </thead>\n",
       "  <tbody>\n",
       "    <tr>\n",
       "      <th>27</th>\n",
       "      <td>AB de Villiers</td>\n",
       "      <td>5181</td>\n",
       "    </tr>\n",
       "    <tr>\n",
       "      <th>46</th>\n",
       "      <td>AM Rahane</td>\n",
       "      <td>4074</td>\n",
       "    </tr>\n",
       "    <tr>\n",
       "      <th>60</th>\n",
       "      <td>AT Rayudu</td>\n",
       "      <td>4190</td>\n",
       "    </tr>\n",
       "    <tr>\n",
       "      <th>108</th>\n",
       "      <td>CH Gayle</td>\n",
       "      <td>4997</td>\n",
       "    </tr>\n",
       "    <tr>\n",
       "      <th>130</th>\n",
       "      <td>DA Warner</td>\n",
       "      <td>5883</td>\n",
       "    </tr>\n",
       "    <tr>\n",
       "      <th>169</th>\n",
       "      <td>F du Plessis</td>\n",
       "      <td>3403</td>\n",
       "    </tr>\n",
       "    <tr>\n",
       "      <th>174</th>\n",
       "      <td>G Gambhir</td>\n",
       "      <td>4217</td>\n",
       "    </tr>\n",
       "    <tr>\n",
       "      <th>251</th>\n",
       "      <td>KA Pollard</td>\n",
       "      <td>3437</td>\n",
       "    </tr>\n",
       "    <tr>\n",
       "      <th>256</th>\n",
       "      <td>KD Karthik</td>\n",
       "      <td>4377</td>\n",
       "    </tr>\n",
       "    <tr>\n",
       "      <th>263</th>\n",
       "      <td>KL Rahul</td>\n",
       "      <td>3895</td>\n",
       "    </tr>\n",
       "    <tr>\n",
       "      <th>328</th>\n",
       "      <td>MK Pandey</td>\n",
       "      <td>3657</td>\n",
       "    </tr>\n",
       "    <tr>\n",
       "      <th>339</th>\n",
       "      <td>MS Dhoni</td>\n",
       "      <td>4978</td>\n",
       "    </tr>\n",
       "    <tr>\n",
       "      <th>430</th>\n",
       "      <td>RG Sharma</td>\n",
       "      <td>5881</td>\n",
       "    </tr>\n",
       "    <tr>\n",
       "      <th>452</th>\n",
       "      <td>RV Uthappa</td>\n",
       "      <td>4954</td>\n",
       "    </tr>\n",
       "    <tr>\n",
       "      <th>462</th>\n",
       "      <td>S Dhawan</td>\n",
       "      <td>6244</td>\n",
       "    </tr>\n",
       "    <tr>\n",
       "      <th>493</th>\n",
       "      <td>SK Raina</td>\n",
       "      <td>5536</td>\n",
       "    </tr>\n",
       "    <tr>\n",
       "      <th>511</th>\n",
       "      <td>SR Watson</td>\n",
       "      <td>3880</td>\n",
       "    </tr>\n",
       "    <tr>\n",
       "      <th>519</th>\n",
       "      <td>SV Samson</td>\n",
       "      <td>3526</td>\n",
       "    </tr>\n",
       "    <tr>\n",
       "      <th>569</th>\n",
       "      <td>V Kohli</td>\n",
       "      <td>6634</td>\n",
       "    </tr>\n",
       "    <tr>\n",
       "      <th>597</th>\n",
       "      <td>YK Pathan</td>\n",
       "      <td>3222</td>\n",
       "    </tr>\n",
       "  </tbody>\n",
       "</table>\n",
       "</div>"
      ],
      "text/plain": [
       "             batter  batsman_run\n",
       "27   AB de Villiers         5181\n",
       "46        AM Rahane         4074\n",
       "60        AT Rayudu         4190\n",
       "108        CH Gayle         4997\n",
       "130       DA Warner         5883\n",
       "169    F du Plessis         3403\n",
       "174       G Gambhir         4217\n",
       "251      KA Pollard         3437\n",
       "256      KD Karthik         4377\n",
       "263        KL Rahul         3895\n",
       "328       MK Pandey         3657\n",
       "339        MS Dhoni         4978\n",
       "430       RG Sharma         5881\n",
       "452      RV Uthappa         4954\n",
       "462        S Dhawan         6244\n",
       "493        SK Raina         5536\n",
       "511       SR Watson         3880\n",
       "519       SV Samson         3526\n",
       "569         V Kohli         6634\n",
       "597       YK Pathan         3222"
      ]
     },
     "execution_count": 35,
     "metadata": {},
     "output_type": "execute_result"
    }
   ],
   "source": [
    "# code here\n",
    "df[df[\"batsman_run\"]>3000]"
   ]
  },
  {
   "cell_type": "markdown",
   "metadata": {
    "id": "pMBEoCL1Y-vh"
   },
   "source": [
    "###`Q-8` No of players having runs above mean value?"
   ]
  },
  {
   "cell_type": "code",
   "execution_count": 28,
   "metadata": {
    "id": "LgtViVFZZBIu"
   },
   "outputs": [
    {
     "data": {
      "text/html": [
       "<div>\n",
       "<style scoped>\n",
       "    .dataframe tbody tr th:only-of-type {\n",
       "        vertical-align: middle;\n",
       "    }\n",
       "\n",
       "    .dataframe tbody tr th {\n",
       "        vertical-align: top;\n",
       "    }\n",
       "\n",
       "    .dataframe thead th {\n",
       "        text-align: right;\n",
       "    }\n",
       "</style>\n",
       "<table border=\"1\" class=\"dataframe\">\n",
       "  <thead>\n",
       "    <tr style=\"text-align: right;\">\n",
       "      <th></th>\n",
       "      <th>batter</th>\n",
       "      <th>batsman_run</th>\n",
       "    </tr>\n",
       "  </thead>\n",
       "  <tbody>\n",
       "    <tr>\n",
       "      <th>15</th>\n",
       "      <td>A Symonds</td>\n",
       "      <td>974</td>\n",
       "    </tr>\n",
       "    <tr>\n",
       "      <th>27</th>\n",
       "      <td>AB de Villiers</td>\n",
       "      <td>5181</td>\n",
       "    </tr>\n",
       "    <tr>\n",
       "      <th>29</th>\n",
       "      <td>AC Gilchrist</td>\n",
       "      <td>2069</td>\n",
       "    </tr>\n",
       "    <tr>\n",
       "      <th>34</th>\n",
       "      <td>AD Mathews</td>\n",
       "      <td>724</td>\n",
       "    </tr>\n",
       "    <tr>\n",
       "      <th>36</th>\n",
       "      <td>AD Russell</td>\n",
       "      <td>2039</td>\n",
       "    </tr>\n",
       "    <tr>\n",
       "      <th>...</th>\n",
       "      <td>...</td>\n",
       "      <td>...</td>\n",
       "    </tr>\n",
       "    <tr>\n",
       "      <th>587</th>\n",
       "      <td>WP Saha</td>\n",
       "      <td>2427</td>\n",
       "    </tr>\n",
       "    <tr>\n",
       "      <th>594</th>\n",
       "      <td>Y Venugopal Rao</td>\n",
       "      <td>985</td>\n",
       "    </tr>\n",
       "    <tr>\n",
       "      <th>596</th>\n",
       "      <td>YBK Jaiswal</td>\n",
       "      <td>547</td>\n",
       "    </tr>\n",
       "    <tr>\n",
       "      <th>597</th>\n",
       "      <td>YK Pathan</td>\n",
       "      <td>3222</td>\n",
       "    </tr>\n",
       "    <tr>\n",
       "      <th>603</th>\n",
       "      <td>Yuvraj Singh</td>\n",
       "      <td>2754</td>\n",
       "    </tr>\n",
       "  </tbody>\n",
       "</table>\n",
       "<p>128 rows × 2 columns</p>\n",
       "</div>"
      ],
      "text/plain": [
       "              batter  batsman_run\n",
       "15         A Symonds          974\n",
       "27    AB de Villiers         5181\n",
       "29      AC Gilchrist         2069\n",
       "34        AD Mathews          724\n",
       "36        AD Russell         2039\n",
       "..               ...          ...\n",
       "587          WP Saha         2427\n",
       "594  Y Venugopal Rao          985\n",
       "596      YBK Jaiswal          547\n",
       "597        YK Pathan         3222\n",
       "603     Yuvraj Singh         2754\n",
       "\n",
       "[128 rows x 2 columns]"
      ]
     },
     "execution_count": 28,
     "metadata": {},
     "output_type": "execute_result"
    }
   ],
   "source": [
    "# code here\n",
    "mean = df['batsman_run'].mean()\n",
    "df[df['batsman_run']>mean]"
   ]
  },
  {
   "cell_type": "markdown",
   "metadata": {
    "id": "OAB1CgdgZEqE"
   },
   "source": [
    "Download data - https://drive.google.com/file/d/1QZuZ5bypUInfVvarHACLAi8tXXHvb8xd/view?usp=share_link\n",
    "\n",
    "file name - items.csv\n",
    "\n"
   ]
  },
  {
   "cell_type": "markdown",
   "metadata": {
    "id": "1UTQQImxZGLu"
   },
   "source": [
    "###`Q-9`\n",
    "    - i. Read `items.csv` making `item_name` as index.\n",
    "    - ii. Show no of nan values\n",
    "    - ii. Item price is given in $, so convert it to rupees without currency symbol.\n",
    "    - iii. Make data type of newly made series as float.\n",
    "    - iv. Fill nan with mean of the series\n",
    "\n",
    "\n",
    "How csv file looks\n",
    "\n",
    "```\n",
    "item_name\titem_price\n",
    "Chips and Fresh Tomato Salsa\t$2.39\n",
    "Izze\t$3.39\n",
    "Nantucket Nectar\t$3.39\n",
    "Chips and Tomatillo-Green Chili Salsa\t$2.39\n",
    "Chicken Bowl\t$16.98\n",
    "\n",
    "```"
   ]
  },
  {
   "cell_type": "code",
   "execution_count": 6,
   "metadata": {},
   "outputs": [],
   "source": [
    "df1 = pd.read_csv(\"items.csv\")"
   ]
  },
  {
   "cell_type": "code",
   "execution_count": 35,
   "metadata": {},
   "outputs": [
    {
     "data": {
      "text/plain": [
       "item_name      0\n",
       "item_price    50\n",
       "dtype: int64"
      ]
     },
     "execution_count": 35,
     "metadata": {},
     "output_type": "execute_result"
    }
   ],
   "source": [
    "df1.isnull().sum()"
   ]
  },
  {
   "cell_type": "code",
   "execution_count": 50,
   "metadata": {
    "scrolled": true
   },
   "outputs": [
    {
     "name": "stdout",
     "output_type": "stream",
     "text": [
      "<class 'pandas.core.frame.DataFrame'>\n",
      "RangeIndex: 4622 entries, 0 to 4621\n",
      "Data columns (total 2 columns):\n",
      " #   Column      Non-Null Count  Dtype \n",
      "---  ------      --------------  ----- \n",
      " 0   item_name   4622 non-null   object\n",
      " 1   item_price  4572 non-null   object\n",
      "dtypes: object(2)\n",
      "memory usage: 72.3+ KB\n"
     ]
    }
   ],
   "source": [
    "df1.info()"
   ]
  },
  {
   "cell_type": "code",
   "execution_count": 18,
   "metadata": {
    "scrolled": true
   },
   "outputs": [
    {
     "data": {
      "text/plain": [
       "0        204.0821\n",
       "1        289.4721\n",
       "2        289.4721\n",
       "3        204.0821\n",
       "4       1449.9222\n",
       "          ...    \n",
       "4617    1003.3325\n",
       "4618    1003.3325\n",
       "4619     960.6375\n",
       "4620     747.1625\n",
       "4621     747.1625\n",
       "Name: item_price, Length: 4622, dtype: float64"
      ]
     },
     "execution_count": 18,
     "metadata": {},
     "output_type": "execute_result"
    }
   ],
   "source": [
    "# ii. Item price is given in $, so convert it to rupees without currency symbol.\n",
    "df1['item_price'] = df1['item_price'].str.replace(\"$\",\"\").astype(\"float\")*85.39\n",
    "df1['item_price']"
   ]
  },
  {
   "cell_type": "code",
   "execution_count": 91,
   "metadata": {
    "id": "1xaWkoMJZFNK"
   },
   "outputs": [
    {
     "data": {
      "text/plain": [
       "item_name      object\n",
       "item_price    float64\n",
       "dtype: object"
      ]
     },
     "execution_count": 91,
     "metadata": {},
     "output_type": "execute_result"
    }
   ],
   "source": [
    "# iii. Make data type of newly made series as float.\n",
    "df1.dtypes"
   ]
  },
  {
   "cell_type": "code",
   "execution_count": 101,
   "metadata": {},
   "outputs": [
    {
     "data": {
      "text/plain": [
       "item_name     0\n",
       "item_price    0\n",
       "dtype: int64"
      ]
     },
     "execution_count": 101,
     "metadata": {},
     "output_type": "execute_result"
    }
   ],
   "source": [
    "# iv. Fill nan with mean of the series \n",
    "df1['item_price']=df1['item_price'].fillna(df1['item_price'].mean())\n",
    "df1.isnull().sum()"
   ]
  },
  {
   "cell_type": "markdown",
   "metadata": {
    "id": "UHc_4e9cZK8r"
   },
   "source": [
    "###`Q-10`:\n",
    "    i. Find mean price\n",
    "    ii. Find 30th and 6th percentile value\n",
    "    iii. Plot Histogram on price with bin size 50\n",
    "    iv. No of items price lies between [1000 to 2000]\n",
    "\n"
   ]
  },
  {
   "cell_type": "code",
   "execution_count": 105,
   "metadata": {
    "id": "Eh3xX9FpZNmE"
   },
   "outputs": [
    {
     "data": {
      "text/plain": [
       "383.145"
      ]
     },
     "execution_count": 105,
     "metadata": {},
     "output_type": "execute_result"
    }
   ],
   "source": [
    "# ii. Find 30th and 6th percentile value\n",
    "np.percentile(df1['item_price'],30)"
   ]
  },
  {
   "cell_type": "code",
   "execution_count": 105,
   "metadata": {},
   "outputs": [
    {
     "data": {
      "text/plain": [
       "<Axes: ylabel='Frequency'>"
      ]
     },
     "execution_count": 105,
     "metadata": {},
     "output_type": "execute_result"
    },
    {
     "data": {
      "image/png": "[encoded data removed]",
      "text/plain": [
       "<Figure size 1200x400 with 1 Axes>"
      ]
     },
     "metadata": {},
     "output_type": "display_data"
    }
   ],
   "source": [
    "# iii. Plot Histogram on price with bin size 50\n",
    "\n",
    "# df.plot(kind='hist',bins=50,figsize=(12,4))\n",
    "df1.plot(kind='hist',bins=50,figsize=(12,4))"
   ]
  },
  {
   "cell_type": "code",
   "execution_count": 111,
   "metadata": {},
   "outputs": [
    {
     "data": {
      "text/plain": [
       "<Axes: ylabel='Frequency'>"
      ]
     },
     "execution_count": 111,
     "metadata": {},
     "output_type": "execute_result"
    },
    {
     "data": {
      "image/png": "[encoded data removed]",
      "text/plain": [
       "<Figure size 640x480 with 1 Axes>"
      ]
     },
     "metadata": {},
     "output_type": "display_data"
    }
   ],
   "source": [
    "data = pd.Series([1,2,3,4,5,6])\n",
    "data.plot(kind='hist',bins=50)"
   ]
  },
  {
   "cell_type": "code",
   "execution_count": 20,
   "metadata": {},
   "outputs": [
    {
     "data": {
      "text/html": [
       "<div>\n",
       "<style scoped>\n",
       "    .dataframe tbody tr th:only-of-type {\n",
       "        vertical-align: middle;\n",
       "    }\n",
       "\n",
       "    .dataframe tbody tr th {\n",
       "        vertical-align: top;\n",
       "    }\n",
       "\n",
       "    .dataframe thead th {\n",
       "        text-align: right;\n",
       "    }\n",
       "</style>\n",
       "<table border=\"1\" class=\"dataframe\">\n",
       "  <thead>\n",
       "    <tr style=\"text-align: right;\">\n",
       "      <th></th>\n",
       "      <th>item_name</th>\n",
       "      <th>item_price</th>\n",
       "    </tr>\n",
       "  </thead>\n",
       "  <tbody>\n",
       "    <tr>\n",
       "      <th>4</th>\n",
       "      <td>Chicken Bowl</td>\n",
       "      <td>1449.9222</td>\n",
       "    </tr>\n",
       "    <tr>\n",
       "      <th>7</th>\n",
       "      <td>Steak Burrito</td>\n",
       "      <td>1003.3325</td>\n",
       "    </tr>\n",
       "    <tr>\n",
       "      <th>39</th>\n",
       "      <td>Barbacoa Bowl</td>\n",
       "      <td>1003.3325</td>\n",
       "    </tr>\n",
       "    <tr>\n",
       "      <th>43</th>\n",
       "      <td>Steak Burrito</td>\n",
       "      <td>1003.3325</td>\n",
       "    </tr>\n",
       "    <tr>\n",
       "      <th>58</th>\n",
       "      <td>Barbacoa Bowl</td>\n",
       "      <td>1003.3325</td>\n",
       "    </tr>\n",
       "    <tr>\n",
       "      <th>...</th>\n",
       "      <td>...</td>\n",
       "      <td>...</td>\n",
       "    </tr>\n",
       "    <tr>\n",
       "      <th>4594</th>\n",
       "      <td>Barbacoa Bowl</td>\n",
       "      <td>1003.3325</td>\n",
       "    </tr>\n",
       "    <tr>\n",
       "      <th>4607</th>\n",
       "      <td>Steak Burrito</td>\n",
       "      <td>1003.3325</td>\n",
       "    </tr>\n",
       "    <tr>\n",
       "      <th>4610</th>\n",
       "      <td>Steak Burrito</td>\n",
       "      <td>1003.3325</td>\n",
       "    </tr>\n",
       "    <tr>\n",
       "      <th>4617</th>\n",
       "      <td>Steak Burrito</td>\n",
       "      <td>1003.3325</td>\n",
       "    </tr>\n",
       "    <tr>\n",
       "      <th>4618</th>\n",
       "      <td>Steak Burrito</td>\n",
       "      <td>1003.3325</td>\n",
       "    </tr>\n",
       "  </tbody>\n",
       "</table>\n",
       "<p>419 rows × 2 columns</p>\n",
       "</div>"
      ],
      "text/plain": [
       "          item_name  item_price\n",
       "4      Chicken Bowl   1449.9222\n",
       "7     Steak Burrito   1003.3325\n",
       "39    Barbacoa Bowl   1003.3325\n",
       "43    Steak Burrito   1003.3325\n",
       "58    Barbacoa Bowl   1003.3325\n",
       "...             ...         ...\n",
       "4594  Barbacoa Bowl   1003.3325\n",
       "4607  Steak Burrito   1003.3325\n",
       "4610  Steak Burrito   1003.3325\n",
       "4617  Steak Burrito   1003.3325\n",
       "4618  Steak Burrito   1003.3325\n",
       "\n",
       "[419 rows x 2 columns]"
      ]
     },
     "execution_count": 20,
     "metadata": {},
     "output_type": "execute_result"
    }
   ],
   "source": [
    "# iv. No of items price lies between [1000 to 2000]\n",
    "\n",
    "df1[(df1['item_price'] > 1000) & (df1['item_price']<2000)]"
   ]
  },
  {
   "cell_type": "code",
   "execution_count": 8,
   "metadata": {},
   "outputs": [
    {
     "data": {
      "text/html": [
       "<div>\n",
       "<style scoped>\n",
       "    .dataframe tbody tr th:only-of-type {\n",
       "        vertical-align: middle;\n",
       "    }\n",
       "\n",
       "    .dataframe tbody tr th {\n",
       "        vertical-align: top;\n",
       "    }\n",
       "\n",
       "    .dataframe thead th {\n",
       "        text-align: right;\n",
       "    }\n",
       "</style>\n",
       "<table border=\"1\" class=\"dataframe\">\n",
       "  <thead>\n",
       "    <tr style=\"text-align: right;\">\n",
       "      <th></th>\n",
       "      <th>item_name</th>\n",
       "      <th>item_price</th>\n",
       "    </tr>\n",
       "  </thead>\n",
       "  <tbody>\n",
       "    <tr>\n",
       "      <th>0</th>\n",
       "      <td>Chips and Fresh Tomato Salsa</td>\n",
       "      <td>$2.39</td>\n",
       "    </tr>\n",
       "    <tr>\n",
       "      <th>1</th>\n",
       "      <td>Izze</td>\n",
       "      <td>$3.39</td>\n",
       "    </tr>\n",
       "    <tr>\n",
       "      <th>2</th>\n",
       "      <td>Nantucket Nectar</td>\n",
       "      <td>$3.39</td>\n",
       "    </tr>\n",
       "    <tr>\n",
       "      <th>3</th>\n",
       "      <td>Chips and Tomatillo-Green Chili Salsa</td>\n",
       "      <td>$2.39</td>\n",
       "    </tr>\n",
       "    <tr>\n",
       "      <th>4</th>\n",
       "      <td>Chicken Bowl</td>\n",
       "      <td>$16.98</td>\n",
       "    </tr>\n",
       "  </tbody>\n",
       "</table>\n",
       "</div>"
      ],
      "text/plain": [
       "                               item_name item_price\n",
       "0           Chips and Fresh Tomato Salsa     $2.39 \n",
       "1                                   Izze     $3.39 \n",
       "2                       Nantucket Nectar     $3.39 \n",
       "3  Chips and Tomatillo-Green Chili Salsa     $2.39 \n",
       "4                           Chicken Bowl    $16.98 "
      ]
     },
     "execution_count": 8,
     "metadata": {},
     "output_type": "execute_result"
    }
   ],
   "source": [
    "df1.head()"
   ]
  },
  {
   "cell_type": "code",
   "execution_count": 16,
   "metadata": {},
   "outputs": [
    {
     "name": "stdout",
     "output_type": "stream",
     "text": [
      "<class 'pandas.core.frame.DataFrame'>\n",
      "RangeIndex: 4622 entries, 0 to 4621\n",
      "Data columns (total 2 columns):\n",
      " #   Column      Non-Null Count  Dtype \n",
      "---  ------      --------------  ----- \n",
      " 0   item_name   4622 non-null   object\n",
      " 1   item_price  4572 non-null   object\n",
      "dtypes: object(2)\n",
      "memory usage: 72.3+ KB\n"
     ]
    }
   ],
   "source": [
    "df1.info()"
   ]
  },
  {
   "cell_type": "code",
   "execution_count": null,
   "metadata": {},
   "outputs": [],
   "source": [
    "df1['item_price'] = df1[\"item_price\"].str.replace(\"$\",\"\").ast"
   ]
  }
 ],
 "metadata": {
  "colab": {
   "provenance": []
  },
  "kernelspec": {
   "display_name": "Python 3 (ipykernel)",
   "language": "python",
   "name": "python3"
  },
  "language_info": {
   "codemirror_mode": {
    "name": "ipython",
    "version": 3
   },
   "file_extension": ".py",
   "mimetype": "text/x-python",
   "name": "python",
   "nbconvert_exporter": "python",
   "pygments_lexer": "ipython3",
   "version": "3.12.4"
  }
 },
 "nbformat": 4,
 "nbformat_minor": 4
}
